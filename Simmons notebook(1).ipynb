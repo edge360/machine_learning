{
 "cells": [
  {
   "cell_type": "code",
   "execution_count": 32,
   "id": "637a38e9",
   "metadata": {},
   "outputs": [],
   "source": [
    "import os\n",
    "import numpy as np\n",
    "import pandas as pd\n",
    "import math\n",
    "import matplotlib.pylab as plt\n",
    "import seaborn as sns\n",
    "from IPython.display import display\n",
    "from sklearn.linear_model import LogisticRegression"
   ]
  },
  {
   "cell_type": "code",
   "execution_count": 33,
   "id": "db4d43b8",
   "metadata": {},
   "outputs": [
    {
     "data": {
      "text/html": [
       "<div>\n",
       "<style scoped>\n",
       "    .dataframe tbody tr th:only-of-type {\n",
       "        vertical-align: middle;\n",
       "    }\n",
       "\n",
       "    .dataframe tbody tr th {\n",
       "        vertical-align: top;\n",
       "    }\n",
       "\n",
       "    .dataframe thead th {\n",
       "        text-align: right;\n",
       "    }\n",
       "</style>\n",
       "<table border=\"1\" class=\"dataframe\">\n",
       "  <thead>\n",
       "    <tr style=\"text-align: right;\">\n",
       "      <th></th>\n",
       "      <th>Customer</th>\n",
       "      <th>X1 = Spending(000)</th>\n",
       "      <th>X2 = Loyalty Card (zero or 1)</th>\n",
       "      <th>Y = Coupon-Usage-Indicator</th>\n",
       "    </tr>\n",
       "  </thead>\n",
       "  <tbody>\n",
       "    <tr>\n",
       "      <th>0</th>\n",
       "      <td>1</td>\n",
       "      <td>2.291</td>\n",
       "      <td>1</td>\n",
       "      <td>0</td>\n",
       "    </tr>\n",
       "    <tr>\n",
       "      <th>1</th>\n",
       "      <td>2</td>\n",
       "      <td>3.215</td>\n",
       "      <td>1</td>\n",
       "      <td>0</td>\n",
       "    </tr>\n",
       "    <tr>\n",
       "      <th>2</th>\n",
       "      <td>3</td>\n",
       "      <td>2.135</td>\n",
       "      <td>1</td>\n",
       "      <td>0</td>\n",
       "    </tr>\n",
       "    <tr>\n",
       "      <th>3</th>\n",
       "      <td>4</td>\n",
       "      <td>3.924</td>\n",
       "      <td>0</td>\n",
       "      <td>0</td>\n",
       "    </tr>\n",
       "    <tr>\n",
       "      <th>4</th>\n",
       "      <td>5</td>\n",
       "      <td>2.528</td>\n",
       "      <td>1</td>\n",
       "      <td>0</td>\n",
       "    </tr>\n",
       "    <tr>\n",
       "      <th>5</th>\n",
       "      <td>6</td>\n",
       "      <td>2.473</td>\n",
       "      <td>0</td>\n",
       "      <td>1</td>\n",
       "    </tr>\n",
       "    <tr>\n",
       "      <th>6</th>\n",
       "      <td>7</td>\n",
       "      <td>2.384</td>\n",
       "      <td>0</td>\n",
       "      <td>0</td>\n",
       "    </tr>\n",
       "    <tr>\n",
       "      <th>7</th>\n",
       "      <td>8</td>\n",
       "      <td>7.076</td>\n",
       "      <td>0</td>\n",
       "      <td>0</td>\n",
       "    </tr>\n",
       "    <tr>\n",
       "      <th>8</th>\n",
       "      <td>9</td>\n",
       "      <td>1.182</td>\n",
       "      <td>1</td>\n",
       "      <td>1</td>\n",
       "    </tr>\n",
       "    <tr>\n",
       "      <th>9</th>\n",
       "      <td>10</td>\n",
       "      <td>3.345</td>\n",
       "      <td>0</td>\n",
       "      <td>0</td>\n",
       "    </tr>\n",
       "    <tr>\n",
       "      <th>10</th>\n",
       "      <td>11</td>\n",
       "      <td>2.140</td>\n",
       "      <td>1</td>\n",
       "      <td>0</td>\n",
       "    </tr>\n",
       "    <tr>\n",
       "      <th>11</th>\n",
       "      <td>12</td>\n",
       "      <td>3.255</td>\n",
       "      <td>0</td>\n",
       "      <td>1</td>\n",
       "    </tr>\n",
       "    <tr>\n",
       "      <th>12</th>\n",
       "      <td>13</td>\n",
       "      <td>1.512</td>\n",
       "      <td>0</td>\n",
       "      <td>0</td>\n",
       "    </tr>\n",
       "    <tr>\n",
       "      <th>13</th>\n",
       "      <td>14</td>\n",
       "      <td>2.148</td>\n",
       "      <td>0</td>\n",
       "      <td>1</td>\n",
       "    </tr>\n",
       "    <tr>\n",
       "      <th>14</th>\n",
       "      <td>15</td>\n",
       "      <td>6.737</td>\n",
       "      <td>0</td>\n",
       "      <td>0</td>\n",
       "    </tr>\n",
       "    <tr>\n",
       "      <th>15</th>\n",
       "      <td>16</td>\n",
       "      <td>6.486</td>\n",
       "      <td>0</td>\n",
       "      <td>0</td>\n",
       "    </tr>\n",
       "    <tr>\n",
       "      <th>16</th>\n",
       "      <td>17</td>\n",
       "      <td>1.307</td>\n",
       "      <td>0</td>\n",
       "      <td>0</td>\n",
       "    </tr>\n",
       "    <tr>\n",
       "      <th>17</th>\n",
       "      <td>18</td>\n",
       "      <td>3.470</td>\n",
       "      <td>1</td>\n",
       "      <td>0</td>\n",
       "    </tr>\n",
       "    <tr>\n",
       "      <th>18</th>\n",
       "      <td>19</td>\n",
       "      <td>2.936</td>\n",
       "      <td>0</td>\n",
       "      <td>0</td>\n",
       "    </tr>\n",
       "    <tr>\n",
       "      <th>19</th>\n",
       "      <td>20</td>\n",
       "      <td>6.404</td>\n",
       "      <td>0</td>\n",
       "      <td>1</td>\n",
       "    </tr>\n",
       "  </tbody>\n",
       "</table>\n",
       "</div>"
      ],
      "text/plain": [
       "    Customer  X1 = Spending(000)  X2 = Loyalty Card (zero or 1)  \\\n",
       "0          1               2.291                              1   \n",
       "1          2               3.215                              1   \n",
       "2          3               2.135                              1   \n",
       "3          4               3.924                              0   \n",
       "4          5               2.528                              1   \n",
       "5          6               2.473                              0   \n",
       "6          7               2.384                              0   \n",
       "7          8               7.076                              0   \n",
       "8          9               1.182                              1   \n",
       "9         10               3.345                              0   \n",
       "10        11               2.140                              1   \n",
       "11        12               3.255                              0   \n",
       "12        13               1.512                              0   \n",
       "13        14               2.148                              0   \n",
       "14        15               6.737                              0   \n",
       "15        16               6.486                              0   \n",
       "16        17               1.307                              0   \n",
       "17        18               3.470                              1   \n",
       "18        19               2.936                              0   \n",
       "19        20               6.404                              0   \n",
       "\n",
       "    Y = Coupon-Usage-Indicator  \n",
       "0                            0  \n",
       "1                            0  \n",
       "2                            0  \n",
       "3                            0  \n",
       "4                            0  \n",
       "5                            1  \n",
       "6                            0  \n",
       "7                            0  \n",
       "8                            1  \n",
       "9                            0  \n",
       "10                           0  \n",
       "11                           1  \n",
       "12                           0  \n",
       "13                           1  \n",
       "14                           0  \n",
       "15                           0  \n",
       "16                           0  \n",
       "17                           0  \n",
       "18                           0  \n",
       "19                           1  "
      ]
     },
     "execution_count": 33,
     "metadata": {},
     "output_type": "execute_result"
    }
   ],
   "source": [
    "# Load data\n",
    "df_SIMMONS =pd.read_excel(\"Simmons-data-raw.xlsx\")\n",
    "df_SIMMONS.head(20)\n",
    "  \n"
   ]
  },
  {
   "cell_type": "code",
   "execution_count": 34,
   "id": "57aaa893",
   "metadata": {},
   "outputs": [
    {
     "data": {
      "text/plain": [
       "Customer                           int64\n",
       "X1 = Spending(000)               float64\n",
       "X2 = Loyalty Card (zero or 1)      int64\n",
       "Y = Coupon-Usage-Indicator         int64\n",
       "dtype: object"
      ]
     },
     "execution_count": 34,
     "metadata": {},
     "output_type": "execute_result"
    }
   ],
   "source": [
    "df_SIMMONS.dtypes"
   ]
  },
  {
   "cell_type": "code",
   "execution_count": 35,
   "id": "5e10e8b1",
   "metadata": {},
   "outputs": [],
   "source": [
    "predictor_cols = [\"X1 = Spending(000)\", \"X2 = Loyalty Card (zero or 1)\"]\n",
    "target_col=\"Y = Coupon-Usage-Indicator\"\n"
   ]
  },
  {
   "cell_type": "code",
   "execution_count": 40,
   "id": "192b79ec",
   "metadata": {},
   "outputs": [
    {
     "name": "stdout",
     "output_type": "stream",
     "text": [
      "LR coefficients:\n",
      "BETA0 (or constant term): -2.1461997567875843\n",
      "BETA1 (coeff. For X1 ): 0.341628168055959\n",
      "BETA2 (coeff. For X2): 1.09850833142365\n"
     ]
    }
   ],
   "source": [
    "model = LogisticRegression(max_iter=100, C=1000)\n",
    "model.fit(df_SIMMONS[predictor_cols],df_SIMMONS[target_col])\n",
    "beta0 = model.intercept_[0]\n",
    "beta1 = model.coef_[0][0]\n",
    "beta2 = model.coef_[0][1]\n",
    "\n",
    "\n",
    "print('LR coefficients:')\n",
    "print('BETA0 (or constant term): {}'.format(beta0))\n",
    "print('BETA1 (coeff. For X1 ): {}'.format(beta1))\n",
    "print('BETA2 (coeff. For X2): {}'.format(beta2))"
   ]
  },
  {
   "cell_type": "code",
   "execution_count": 41,
   "id": "c7b601dc",
   "metadata": {},
   "outputs": [
    {
     "name": "stdout",
     "output_type": "stream",
     "text": [
      "Probability of coupon usage for Jack: 0.4098863814601675\n",
      "Probability of coupon usage for Jill: 0.31438733042066097\n"
     ]
    },
    {
     "name": "stderr",
     "output_type": "stream",
     "text": [
      "C:\\Users\\18624\\anaconda3\\Lib\\site-packages\\sklearn\\base.py:464: UserWarning: X does not have valid feature names, but LogisticRegression was fitted with feature names\n",
      "  warnings.warn(\n",
      "C:\\Users\\18624\\anaconda3\\Lib\\site-packages\\sklearn\\base.py:464: UserWarning: X does not have valid feature names, but LogisticRegression was fitted with feature names\n",
      "  warnings.warn(\n"
     ]
    }
   ],
   "source": [
    "def predict_coupon_usage(X):\n",
    "    model = LogisticRegression()\n",
    "    model.fit(df_SIMMONS[predictor_cols],df_SIMMONS[target_col])\n",
    "\n",
    "jack_prob = model.predict_proba([[2, 1]])[0][1]\n",
    "jill_prob = model.predict_proba([[4, 0]])[0][1]\n",
    "    \n",
    "print('Probability of coupon usage for Jack:', jack_prob)\n",
    "print('Probability of coupon usage for Jill:', jill_prob)"
   ]
  },
  {
   "cell_type": "code",
   "execution_count": 42,
   "id": "2a276154",
   "metadata": {},
   "outputs": [
    {
     "name": "stdout",
     "output_type": "stream",
     "text": [
      "ODDS Ratio for variable  X1 = Spending(000) =  1.407236944571635 \n",
      "\n",
      "ODDS Ratio for variable  X2 = Loyalty Card (zero or 1) =  2.999688144476722 \n",
      "\n"
     ]
    }
   ],
   "source": [
    "count=0\n",
    "for col in predictor_cols:\n",
    "    print(\"ODDS Ratio for variable \", col,\"= \", np.exp(lin_model.coef_[0,count]),\"\\n\")\n",
    "    count = count+1\n"
   ]
  },
  {
   "cell_type": "code",
   "execution_count": null,
   "id": "18a13121",
   "metadata": {},
   "outputs": [],
   "source": []
  },
  {
   "cell_type": "code",
   "execution_count": null,
   "id": "522be6e3",
   "metadata": {},
   "outputs": [],
   "source": []
  },
  {
   "cell_type": "code",
   "execution_count": null,
   "id": "19d3d2d1",
   "metadata": {},
   "outputs": [],
   "source": [
    "\n"
   ]
  },
  {
   "cell_type": "code",
   "execution_count": null,
   "id": "274f7c26",
   "metadata": {},
   "outputs": [],
   "source": [
    "\n",
    "\n"
   ]
  },
  {
   "cell_type": "code",
   "execution_count": null,
   "id": "b06bcc4f",
   "metadata": {},
   "outputs": [],
   "source": []
  },
  {
   "cell_type": "code",
   "execution_count": null,
   "id": "21e401bd",
   "metadata": {},
   "outputs": [],
   "source": []
  },
  {
   "cell_type": "code",
   "execution_count": null,
   "id": "6d0bfc13",
   "metadata": {},
   "outputs": [],
   "source": []
  },
  {
   "cell_type": "code",
   "execution_count": null,
   "id": "fe76ae15",
   "metadata": {},
   "outputs": [],
   "source": []
  },
  {
   "cell_type": "code",
   "execution_count": null,
   "id": "2b8478dc",
   "metadata": {},
   "outputs": [],
   "source": [
    "\n"
   ]
  },
  {
   "cell_type": "code",
   "execution_count": null,
   "id": "81f339b6",
   "metadata": {},
   "outputs": [],
   "source": []
  }
 ],
 "metadata": {
  "kernelspec": {
   "display_name": "Python 3 (ipykernel)",
   "language": "python",
   "name": "python3"
  },
  "language_info": {
   "codemirror_mode": {
    "name": "ipython",
    "version": 3
   },
   "file_extension": ".py",
   "mimetype": "text/x-python",
   "name": "python",
   "nbconvert_exporter": "python",
   "pygments_lexer": "ipython3",
   "version": "3.11.4"
  }
 },
 "nbformat": 4,
 "nbformat_minor": 5
}
