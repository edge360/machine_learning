{
 "cells": [
  {
   "cell_type": "code",
   "execution_count": 24,
   "metadata": {
    "scrolled": true,
    "tags": []
   },
   "outputs": [
    {
     "name": "stdout",
     "output_type": "stream",
     "text": [
      "Requirement already satisfied: graphviz in c:\\users\\edward\\anaconda3\\lib\\site-packages (0.20.1)\n"
     ]
    }
   ],
   "source": [
    "import os\n",
    "\n",
    "import numpy as np\n",
    "import pandas as pd\n",
    "import math\n",
    "import matplotlib.pylab as plt\n",
    "import seaborn as sns\n",
    "\n",
    "%matplotlib inline\n",
    "sns.set(style='ticks', palette='Set2')\n",
    "!pip install graphviz\n"
   ]
  },
  {
   "cell_type": "code",
   "execution_count": 25,
   "metadata": {
    "scrolled": true,
    "tags": []
   },
   "outputs": [
    {
     "data": {
      "text/html": [
       "<div>\n",
       "<style scoped>\n",
       "    .dataframe tbody tr th:only-of-type {\n",
       "        vertical-align: middle;\n",
       "    }\n",
       "\n",
       "    .dataframe tbody tr th {\n",
       "        vertical-align: top;\n",
       "    }\n",
       "\n",
       "    .dataframe thead th {\n",
       "        text-align: right;\n",
       "    }\n",
       "</style>\n",
       "<table border=\"1\" class=\"dataframe\">\n",
       "  <thead>\n",
       "    <tr style=\"text-align: right;\">\n",
       "      <th></th>\n",
       "      <th>COLLEGE</th>\n",
       "      <th>INCOME</th>\n",
       "      <th>OVERAGE</th>\n",
       "      <th>LEFTOVER</th>\n",
       "      <th>HOUSE</th>\n",
       "      <th>HANDSET_PRICE</th>\n",
       "      <th>OVER_15MINS_CALLS_PER_MONTH</th>\n",
       "      <th>AVERAGE_CALL_DURATION</th>\n",
       "      <th>REPORTED_SATISFACTION</th>\n",
       "      <th>REPORTED_USAGE_LEVEL</th>\n",
       "      <th>CONSIDERING_CHANGE_OF_PLAN</th>\n",
       "      <th>LEAVE</th>\n",
       "    </tr>\n",
       "  </thead>\n",
       "  <tbody>\n",
       "    <tr>\n",
       "      <th>0</th>\n",
       "      <td>zero</td>\n",
       "      <td>31953</td>\n",
       "      <td>0</td>\n",
       "      <td>6</td>\n",
       "      <td>313378</td>\n",
       "      <td>161</td>\n",
       "      <td>0</td>\n",
       "      <td>4</td>\n",
       "      <td>unsat</td>\n",
       "      <td>little</td>\n",
       "      <td>no</td>\n",
       "      <td>STAY</td>\n",
       "    </tr>\n",
       "    <tr>\n",
       "      <th>1</th>\n",
       "      <td>one</td>\n",
       "      <td>36147</td>\n",
       "      <td>0</td>\n",
       "      <td>13</td>\n",
       "      <td>800586</td>\n",
       "      <td>244</td>\n",
       "      <td>0</td>\n",
       "      <td>6</td>\n",
       "      <td>unsat</td>\n",
       "      <td>little</td>\n",
       "      <td>considering</td>\n",
       "      <td>STAY</td>\n",
       "    </tr>\n",
       "    <tr>\n",
       "      <th>2</th>\n",
       "      <td>one</td>\n",
       "      <td>27273</td>\n",
       "      <td>230</td>\n",
       "      <td>0</td>\n",
       "      <td>305049</td>\n",
       "      <td>201</td>\n",
       "      <td>16</td>\n",
       "      <td>15</td>\n",
       "      <td>unsat</td>\n",
       "      <td>very_little</td>\n",
       "      <td>perhaps</td>\n",
       "      <td>STAY</td>\n",
       "    </tr>\n",
       "    <tr>\n",
       "      <th>3</th>\n",
       "      <td>zero</td>\n",
       "      <td>120070</td>\n",
       "      <td>38</td>\n",
       "      <td>33</td>\n",
       "      <td>788235</td>\n",
       "      <td>780</td>\n",
       "      <td>3</td>\n",
       "      <td>2</td>\n",
       "      <td>unsat</td>\n",
       "      <td>very_high</td>\n",
       "      <td>considering</td>\n",
       "      <td>LEAVE</td>\n",
       "    </tr>\n",
       "    <tr>\n",
       "      <th>4</th>\n",
       "      <td>one</td>\n",
       "      <td>29215</td>\n",
       "      <td>208</td>\n",
       "      <td>85</td>\n",
       "      <td>224784</td>\n",
       "      <td>241</td>\n",
       "      <td>21</td>\n",
       "      <td>1</td>\n",
       "      <td>very_unsat</td>\n",
       "      <td>little</td>\n",
       "      <td>never_thought</td>\n",
       "      <td>STAY</td>\n",
       "    </tr>\n",
       "  </tbody>\n",
       "</table>\n",
       "</div>"
      ],
      "text/plain": [
       "  COLLEGE  INCOME  OVERAGE  LEFTOVER   HOUSE  HANDSET_PRICE  \\\n",
       "0    zero   31953        0         6  313378            161   \n",
       "1     one   36147        0        13  800586            244   \n",
       "2     one   27273      230         0  305049            201   \n",
       "3    zero  120070       38        33  788235            780   \n",
       "4     one   29215      208        85  224784            241   \n",
       "\n",
       "   OVER_15MINS_CALLS_PER_MONTH  AVERAGE_CALL_DURATION REPORTED_SATISFACTION  \\\n",
       "0                            0                      4                 unsat   \n",
       "1                            0                      6                 unsat   \n",
       "2                           16                     15                 unsat   \n",
       "3                            3                      2                 unsat   \n",
       "4                           21                      1            very_unsat   \n",
       "\n",
       "  REPORTED_USAGE_LEVEL CONSIDERING_CHANGE_OF_PLAN  LEAVE  \n",
       "0               little                         no   STAY  \n",
       "1               little                considering   STAY  \n",
       "2          very_little                    perhaps   STAY  \n",
       "3            very_high                considering  LEAVE  \n",
       "4               little              never_thought   STAY  "
      ]
     },
     "execution_count": 25,
     "metadata": {},
     "output_type": "execute_result"
    }
   ],
   "source": [
    "# Load data\n",
    "path = \"./churn2.csv\"\n",
    "df = pd.read_csv(path)[[\"COLLEGE\", \"INCOME\", \"OVERAGE\", \"LEFTOVER\", \"HOUSE\",\"HANDSET_PRICE\",\"OVER_15MINS_CALLS_PER_MONTH\",\"AVERAGE_CALL_DURATION\",\"REPORTED_SATISFACTION\",\"REPORTED_USAGE_LEVEL\",\"CONSIDERING_CHANGE_OF_PLAN\",\"LEAVE\"]].dropna()\n",
    "# Take a look at the data\n",
    "df.head(5)"
   ]
  },
  {
   "cell_type": "code",
   "execution_count": 26,
   "metadata": {
    "scrolled": true,
    "tags": []
   },
   "outputs": [
    {
     "data": {
      "text/plain": [
       "COLLEGE                        object\n",
       "INCOME                          int64\n",
       "OVERAGE                         int64\n",
       "LEFTOVER                        int64\n",
       "HOUSE                           int64\n",
       "HANDSET_PRICE                   int64\n",
       "OVER_15MINS_CALLS_PER_MONTH     int64\n",
       "AVERAGE_CALL_DURATION           int64\n",
       "REPORTED_SATISFACTION          object\n",
       "REPORTED_USAGE_LEVEL           object\n",
       "CONSIDERING_CHANGE_OF_PLAN     object\n",
       "LEAVE                          object\n",
       "dtype: object"
      ]
     },
     "execution_count": 26,
     "metadata": {},
     "output_type": "execute_result"
    }
   ],
   "source": [
    "df.dtypes"
   ]
  },
  {
   "cell_type": "code",
   "execution_count": 27,
   "metadata": {
    "scrolled": true,
    "tags": []
   },
   "outputs": [],
   "source": [
    "# Transform COLLEGE column to a numeric variable\n",
    "df[\"COLLEGE2\"] = (df.COLLEGE == \"one\").astype(int)\n",
    "#df.head(5)"
   ]
  },
  {
   "cell_type": "code",
   "execution_count": 28,
   "metadata": {
    "tags": []
   },
   "outputs": [],
   "source": [
    "df.REPORTED_SATISFACTION = df.REPORTED_SATISFACTION.astype('str')\n",
    "df.REPORTED_USAGE_LEVEL = df.REPORTED_USAGE_LEVEL.astype('str')\n",
    "df.CONSIDERING_CHANGE_OF_PLAN = df.CONSIDERING_CHANGE_OF_PLAN.astype('str')"
   ]
  },
  {
   "cell_type": "code",
   "execution_count": 29,
   "metadata": {
    "tags": []
   },
   "outputs": [
    {
     "data": {
      "text/html": [
       "<div>\n",
       "<style scoped>\n",
       "    .dataframe tbody tr th:only-of-type {\n",
       "        vertical-align: middle;\n",
       "    }\n",
       "\n",
       "    .dataframe tbody tr th {\n",
       "        vertical-align: top;\n",
       "    }\n",
       "\n",
       "    .dataframe thead th {\n",
       "        text-align: right;\n",
       "    }\n",
       "</style>\n",
       "<table border=\"1\" class=\"dataframe\">\n",
       "  <thead>\n",
       "    <tr style=\"text-align: right;\">\n",
       "      <th></th>\n",
       "      <th>INCOME</th>\n",
       "      <th>OVERAGE</th>\n",
       "      <th>LEFTOVER</th>\n",
       "      <th>HOUSE</th>\n",
       "      <th>HANDSET_PRICE</th>\n",
       "      <th>OVER_15MINS_CALLS_PER_MONTH</th>\n",
       "      <th>AVERAGE_CALL_DURATION</th>\n",
       "      <th>COLLEGE2</th>\n",
       "      <th>LEAVE2</th>\n",
       "      <th>REPORTED_SATISFACTION_avg</th>\n",
       "      <th>...</th>\n",
       "      <th>REPORTED_USAGE_LEVEL_avg</th>\n",
       "      <th>REPORTED_USAGE_LEVEL_high</th>\n",
       "      <th>REPORTED_USAGE_LEVEL_little</th>\n",
       "      <th>REPORTED_USAGE_LEVEL_very_high</th>\n",
       "      <th>REPORTED_USAGE_LEVEL_very_little</th>\n",
       "      <th>CONSIDERING_CHANGE_OF_PLAN_actively_looking_into_it</th>\n",
       "      <th>CONSIDERING_CHANGE_OF_PLAN_considering</th>\n",
       "      <th>CONSIDERING_CHANGE_OF_PLAN_never_thought</th>\n",
       "      <th>CONSIDERING_CHANGE_OF_PLAN_no</th>\n",
       "      <th>CONSIDERING_CHANGE_OF_PLAN_perhaps</th>\n",
       "    </tr>\n",
       "  </thead>\n",
       "  <tbody>\n",
       "    <tr>\n",
       "      <th>0</th>\n",
       "      <td>31953</td>\n",
       "      <td>0</td>\n",
       "      <td>6</td>\n",
       "      <td>313378</td>\n",
       "      <td>161</td>\n",
       "      <td>0</td>\n",
       "      <td>4</td>\n",
       "      <td>0</td>\n",
       "      <td>1</td>\n",
       "      <td>0</td>\n",
       "      <td>...</td>\n",
       "      <td>0</td>\n",
       "      <td>0</td>\n",
       "      <td>1</td>\n",
       "      <td>0</td>\n",
       "      <td>0</td>\n",
       "      <td>0</td>\n",
       "      <td>0</td>\n",
       "      <td>0</td>\n",
       "      <td>1</td>\n",
       "      <td>0</td>\n",
       "    </tr>\n",
       "    <tr>\n",
       "      <th>1</th>\n",
       "      <td>36147</td>\n",
       "      <td>0</td>\n",
       "      <td>13</td>\n",
       "      <td>800586</td>\n",
       "      <td>244</td>\n",
       "      <td>0</td>\n",
       "      <td>6</td>\n",
       "      <td>1</td>\n",
       "      <td>1</td>\n",
       "      <td>0</td>\n",
       "      <td>...</td>\n",
       "      <td>0</td>\n",
       "      <td>0</td>\n",
       "      <td>1</td>\n",
       "      <td>0</td>\n",
       "      <td>0</td>\n",
       "      <td>0</td>\n",
       "      <td>1</td>\n",
       "      <td>0</td>\n",
       "      <td>0</td>\n",
       "      <td>0</td>\n",
       "    </tr>\n",
       "    <tr>\n",
       "      <th>2</th>\n",
       "      <td>27273</td>\n",
       "      <td>230</td>\n",
       "      <td>0</td>\n",
       "      <td>305049</td>\n",
       "      <td>201</td>\n",
       "      <td>16</td>\n",
       "      <td>15</td>\n",
       "      <td>1</td>\n",
       "      <td>1</td>\n",
       "      <td>0</td>\n",
       "      <td>...</td>\n",
       "      <td>0</td>\n",
       "      <td>0</td>\n",
       "      <td>0</td>\n",
       "      <td>0</td>\n",
       "      <td>1</td>\n",
       "      <td>0</td>\n",
       "      <td>0</td>\n",
       "      <td>0</td>\n",
       "      <td>0</td>\n",
       "      <td>1</td>\n",
       "    </tr>\n",
       "    <tr>\n",
       "      <th>3</th>\n",
       "      <td>120070</td>\n",
       "      <td>38</td>\n",
       "      <td>33</td>\n",
       "      <td>788235</td>\n",
       "      <td>780</td>\n",
       "      <td>3</td>\n",
       "      <td>2</td>\n",
       "      <td>0</td>\n",
       "      <td>0</td>\n",
       "      <td>0</td>\n",
       "      <td>...</td>\n",
       "      <td>0</td>\n",
       "      <td>0</td>\n",
       "      <td>0</td>\n",
       "      <td>1</td>\n",
       "      <td>0</td>\n",
       "      <td>0</td>\n",
       "      <td>1</td>\n",
       "      <td>0</td>\n",
       "      <td>0</td>\n",
       "      <td>0</td>\n",
       "    </tr>\n",
       "    <tr>\n",
       "      <th>4</th>\n",
       "      <td>29215</td>\n",
       "      <td>208</td>\n",
       "      <td>85</td>\n",
       "      <td>224784</td>\n",
       "      <td>241</td>\n",
       "      <td>21</td>\n",
       "      <td>1</td>\n",
       "      <td>1</td>\n",
       "      <td>1</td>\n",
       "      <td>0</td>\n",
       "      <td>...</td>\n",
       "      <td>0</td>\n",
       "      <td>0</td>\n",
       "      <td>1</td>\n",
       "      <td>0</td>\n",
       "      <td>0</td>\n",
       "      <td>0</td>\n",
       "      <td>0</td>\n",
       "      <td>1</td>\n",
       "      <td>0</td>\n",
       "      <td>0</td>\n",
       "    </tr>\n",
       "  </tbody>\n",
       "</table>\n",
       "<p>5 rows × 24 columns</p>\n",
       "</div>"
      ],
      "text/plain": [
       "   INCOME  OVERAGE  LEFTOVER   HOUSE  HANDSET_PRICE  \\\n",
       "0   31953        0         6  313378            161   \n",
       "1   36147        0        13  800586            244   \n",
       "2   27273      230         0  305049            201   \n",
       "3  120070       38        33  788235            780   \n",
       "4   29215      208        85  224784            241   \n",
       "\n",
       "   OVER_15MINS_CALLS_PER_MONTH  AVERAGE_CALL_DURATION  COLLEGE2  LEAVE2  \\\n",
       "0                            0                      4         0       1   \n",
       "1                            0                      6         1       1   \n",
       "2                           16                     15         1       1   \n",
       "3                            3                      2         0       0   \n",
       "4                           21                      1         1       1   \n",
       "\n",
       "   REPORTED_SATISFACTION_avg  ...  REPORTED_USAGE_LEVEL_avg  \\\n",
       "0                          0  ...                         0   \n",
       "1                          0  ...                         0   \n",
       "2                          0  ...                         0   \n",
       "3                          0  ...                         0   \n",
       "4                          0  ...                         0   \n",
       "\n",
       "   REPORTED_USAGE_LEVEL_high  REPORTED_USAGE_LEVEL_little  \\\n",
       "0                          0                            1   \n",
       "1                          0                            1   \n",
       "2                          0                            0   \n",
       "3                          0                            0   \n",
       "4                          0                            1   \n",
       "\n",
       "   REPORTED_USAGE_LEVEL_very_high  REPORTED_USAGE_LEVEL_very_little  \\\n",
       "0                               0                                 0   \n",
       "1                               0                                 0   \n",
       "2                               0                                 1   \n",
       "3                               1                                 0   \n",
       "4                               0                                 0   \n",
       "\n",
       "   CONSIDERING_CHANGE_OF_PLAN_actively_looking_into_it  \\\n",
       "0                                                  0     \n",
       "1                                                  0     \n",
       "2                                                  0     \n",
       "3                                                  0     \n",
       "4                                                  0     \n",
       "\n",
       "   CONSIDERING_CHANGE_OF_PLAN_considering  \\\n",
       "0                                       0   \n",
       "1                                       1   \n",
       "2                                       0   \n",
       "3                                       1   \n",
       "4                                       0   \n",
       "\n",
       "   CONSIDERING_CHANGE_OF_PLAN_never_thought  CONSIDERING_CHANGE_OF_PLAN_no  \\\n",
       "0                                         0                              1   \n",
       "1                                         0                              0   \n",
       "2                                         0                              0   \n",
       "3                                         0                              0   \n",
       "4                                         1                              0   \n",
       "\n",
       "   CONSIDERING_CHANGE_OF_PLAN_perhaps  \n",
       "0                                   0  \n",
       "1                                   0  \n",
       "2                                   1  \n",
       "3                                   0  \n",
       "4                                   0  \n",
       "\n",
       "[5 rows x 24 columns]"
      ]
     },
     "execution_count": 29,
     "metadata": {},
     "output_type": "execute_result"
    }
   ],
   "source": [
    "df[\"LEAVE2\"] = (df.LEAVE == \"STAY\").astype(int)\n",
    "df = df.drop(\"LEAVE\", axis=\"columns\")\n",
    "df = df.drop(\"COLLEGE\", axis=\"columns\")\n",
    "df = pd.get_dummies(df)\n",
    "df.head(5)"
   ]
  },
  {
   "cell_type": "code",
   "execution_count": 30,
   "metadata": {},
   "outputs": [],
   "source": [
    "# Using all variables\n",
    "predictor_cols = ['INCOME', 'OVERAGE', 'LEFTOVER', 'HOUSE', 'HANDSET_PRICE',\n",
    "       'OVER_15MINS_CALLS_PER_MONTH', 'AVERAGE_CALL_DURATION', 'COLLEGE2',\n",
    "       'REPORTED_SATISFACTION_avg', 'REPORTED_SATISFACTION_sat',\n",
    "       'REPORTED_SATISFACTION_unsat', 'REPORTED_SATISFACTION_very_sat',\n",
    "       'REPORTED_SATISFACTION_very_unsat', 'REPORTED_USAGE_LEVEL_avg',\n",
    "       'REPORTED_USAGE_LEVEL_high', 'REPORTED_USAGE_LEVEL_little',\n",
    "       'REPORTED_USAGE_LEVEL_very_high', 'REPORTED_USAGE_LEVEL_very_little',\n",
    "       'CONSIDERING_CHANGE_OF_PLAN_actively_looking_into_it',\n",
    "       'CONSIDERING_CHANGE_OF_PLAN_considering',\n",
    "       'CONSIDERING_CHANGE_OF_PLAN_never_thought',\n",
    "       'CONSIDERING_CHANGE_OF_PLAN_no', 'CONSIDERING_CHANGE_OF_PLAN_perhaps']\n",
    "\n",
    "target_col = \"LEAVE2\"\n",
    "from sklearn.model_selection import train_test_split\n",
    "X_train, X_test, y_train, y_test = train_test_split(df[predictor_cols],df[target_col],test_size = 0.25,random_state = 0)"
   ]
  },
  {
   "cell_type": "code",
   "execution_count": 31,
   "metadata": {},
   "outputs": [
    {
     "name": "stdout",
     "output_type": "stream",
     "text": [
      "X_train shape: (15000, 23)\n",
      "X_test shape: (5000, 23)\n",
      "y_train shape: (15000,)\n",
      "y_test shape: (5000,)\n"
     ]
    }
   ],
   "source": [
    "print(\"X_train shape: {}\".format(X_train.shape))\n",
    "print(\"X_test shape: {}\".format(X_test.shape))\n",
    "print(\"y_train shape: {}\".format(y_train.shape))\n",
    "print(\"y_test shape: {}\".format(y_test.shape))"
   ]
  },
  {
   "cell_type": "code",
   "execution_count": 32,
   "metadata": {
    "scrolled": true
   },
   "outputs": [
    {
     "name": "stdout",
     "output_type": "stream",
     "text": [
      "Fold  1 :\t 0.602\n",
      "Fold  2 :\t 0.621\n",
      "Fold  3 :\t 0.611\n",
      "Fold  4 :\t 0.615\n",
      "Fold  5 :\t 0.646\n",
      "Fold  6 :\t 0.640\n",
      "Fold  7 :\t 0.644\n",
      "Fold  8 :\t 0.633\n",
      "Fold  9 :\t 0.631\n",
      "Fold  10 :\t 0.658\n",
      "Average error of cross validation score: 0.0053\n",
      "Std. dev of cross validation score: 0.0168\n",
      "Average cross validation score: 0.6301\n",
      "Minimum of cross validation score: 0.6020\n",
      "Test set score:  0.644400\n"
     ]
    }
   ],
   "source": [
    "from sklearn.tree import DecisionTreeClassifier\n",
    "from sklearn.model_selection import cross_val_score\n",
    "from sklearn.linear_model import LogisticRegression\n",
    "\n",
    "lin_model = LogisticRegression(C = 100, max_iter = 2000)\n",
    "lin_model.fit(X_train, y_train)\n",
    "scores = cross_val_score(lin_model, X_train, y_train, cv = 10)\n",
    "\n",
    "i = 0\n",
    "for val in scores:\n",
    "    i = i + 1 \n",
    "    print(\"Fold \", i, \":\\t\", format(val, '.3f'))\n",
    "    \n",
    "print(\"Average error of cross validation score: {:.4f}\".format(scores.std() / (10 ** (1/2))))\n",
    "print(\"Std. dev of cross validation score: {:.4f}\".format(scores.std()))\n",
    "print(\"Average cross validation score: {:.4f}\".format(scores.mean()))\n",
    "print(\"Minimum of cross validation score: {:.4f}\".format(scores.min()))\n",
    "\n",
    "y_pred = lin_model.predict(X_test)\n",
    "print(\"Test set score: {: 4f}\".format(np.mean(y_pred == y_test)))"
   ]
  },
  {
   "cell_type": "code",
   "execution_count": 33,
   "metadata": {},
   "outputs": [
    {
     "data": {
      "image/png": "[encoded data removed]",
      "text/plain": [
       "<Figure size 640x480 with 1 Axes>"
      ]
     },
     "metadata": {},
     "output_type": "display_data"
    }
   ],
   "source": [
    "# Setting the range for the parameter (from 1 to 10)\n",
    "parameter_range = np.arange(1, 11, 1)\n",
    "\n",
    " \n",
    "plt.bar(parameter_range, scores,\n",
    "         label=\"10 Fold\", color='g')\n",
    "\n",
    "plt.plot(scores.mean())\n",
    "plt.hlines(scores.mean(),xmin=0,xmax=10,colors=\"red\")\n",
    "\n",
    "# Creating the plot\n",
    "plt.title(\"Fold Accuracy\")\n",
    "plt.xlabel(\"Fold\")\n",
    "plt.ylabel(\"Accuracy\")\n",
    "plt.ylim(0,1)\n",
    "plt.tight_layout()\n",
    "plt.legend(loc='best')\n",
    "plt.xticks(ticks=parameter_range)\n",
    "plt.show()"
   ]
  },
  {
   "cell_type": "code",
   "execution_count": 34,
   "metadata": {
    "tags": []
   },
   "outputs": [
    {
     "name": "stdout",
     "output_type": "stream",
     "text": [
      "Logistic Regression coefficients:\n",
      "\n",
      "Variable:                                                   Coefficient\n",
      "INCOME                                                      -0.000003\n",
      "OVERAGE                                                     -0.005851\n",
      "LEFTOVER                                                    -0.000784\n",
      "HOUSE                                                       0.000002\n",
      "HANDSET_PRICE                                               -0.000399\n",
      "OVER_15MINS_CALLS_PER_MONTH                                 -0.000540\n",
      "AVERAGE_CALL_DURATION                                       -0.000016\n",
      "COLLEGE2                                                    -0.000005\n",
      "REPORTED_SATISFACTION_avg                                   0.000000\n",
      "REPORTED_SATISFACTION_sat                                   0.000001\n",
      "REPORTED_SATISFACTION_unsat                                 -0.000003\n",
      "REPORTED_SATISFACTION_very_sat                              -0.000000\n",
      "REPORTED_SATISFACTION_very_unsat                            -0.000004\n",
      "REPORTED_USAGE_LEVEL_avg                                    -0.000001\n",
      "REPORTED_USAGE_LEVEL_high                                   -0.000000\n",
      "REPORTED_USAGE_LEVEL_little                                 -0.000002\n",
      "REPORTED_USAGE_LEVEL_very_high                              -0.000002\n",
      "REPORTED_USAGE_LEVEL_very_little                            -0.000001\n",
      "CONSIDERING_CHANGE_OF_PLAN_actively_looking_into_it         -0.000001\n",
      "CONSIDERING_CHANGE_OF_PLAN_considering                      -0.000001\n",
      "CONSIDERING_CHANGE_OF_PLAN_never_thought                    -0.000001\n",
      "CONSIDERING_CHANGE_OF_PLAN_no                               -0.000002\n",
      "CONSIDERING_CHANGE_OF_PLAN_perhaps                          -0.000001\n",
      "FINALLY printing the Intercept for Logistic Regression =  [-5.83e-06]\n"
     ]
    }
   ],
   "source": [
    "#print(\"Number of columns in data frame = \", len(X_train.columns))\n",
    "print('Logistic Regression coefficients:\\n')\n",
    "print(\"{:60}{:}\".format(\"Variable: \", \"Coefficient\"))\n",
    "\n",
    "count = 0\n",
    "\n",
    "for col in X_train.columns:\n",
    "    if(col == \"LEAVE2\"):\n",
    "        break\n",
    "    print(\"{:60}{:.6f}\".format(col, lin_model.coef_[0][count]))\n",
    "\n",
    "    count = count + 1\n",
    "    \n",
    "print(\"FINALLY printing the Intercept for Logistic Regression = \", lin_model.intercept_)"
   ]
  },
  {
   "cell_type": "code",
   "execution_count": 35,
   "metadata": {
    "tags": []
   },
   "outputs": [
    {
     "name": "stdout",
     "output_type": "stream",
     "text": [
      "Odds Ratios:\n",
      "\n",
      "Variable:                                                   Odds Ratio\n",
      "INCOME                                                      0.999997\n",
      "OVERAGE                                                     0.994166\n",
      "LEFTOVER                                                    0.999216\n",
      "HOUSE                                                       1.000002\n",
      "HANDSET_PRICE                                               0.999601\n",
      "OVER_15MINS_CALLS_PER_MONTH                                 0.999460\n",
      "AVERAGE_CALL_DURATION                                       0.999984\n",
      "COLLEGE2                                                    0.999995\n",
      "REPORTED_SATISFACTION_avg                                   1.000000\n",
      "REPORTED_SATISFACTION_sat                                   1.000001\n",
      "REPORTED_SATISFACTION_unsat                                 0.999997\n",
      "REPORTED_SATISFACTION_very_sat                              1.000000\n",
      "REPORTED_SATISFACTION_very_unsat                            0.999996\n",
      "REPORTED_USAGE_LEVEL_avg                                    0.999999\n",
      "REPORTED_USAGE_LEVEL_high                                   1.000000\n",
      "REPORTED_USAGE_LEVEL_little                                 0.999998\n",
      "REPORTED_USAGE_LEVEL_very_high                              0.999998\n",
      "REPORTED_USAGE_LEVEL_very_little                            0.999999\n",
      "CONSIDERING_CHANGE_OF_PLAN_actively_looking_into_it         0.999999\n",
      "CONSIDERING_CHANGE_OF_PLAN_considering                      0.999999\n",
      "CONSIDERING_CHANGE_OF_PLAN_never_thought                    0.999999\n",
      "CONSIDERING_CHANGE_OF_PLAN_no                               0.999998\n",
      "CONSIDERING_CHANGE_OF_PLAN_perhaps                          0.999999\n"
     ]
    }
   ],
   "source": [
    "# Finally print the ODDS ratios for each of the independent variables\n",
    "# The ODDS ratio os the increase in likelihood for a ONE unit increase in the independent variable\n",
    "# The odds ratio is simply the exponent of the fitted coefficient\n",
    "#print(\"Number of columns in data frame = \", len(X_train.columns))\n",
    "\n",
    "print('Odds Ratios:\\n')\n",
    "print(\"{:60}{:}\".format(\"Variable: \", \"Odds Ratio\"))\n",
    "count = 0\n",
    "for col in X_train.columns:\n",
    "    # Do nothing if you have reached the last column since it contains the diagnosis (the Y variable)\n",
    "    if(col == \"LEAVE2\"):\n",
    "        count = count + 1\n",
    "        break\n",
    "    #print(\"ODDS Ratio for\", col ,\"=  \", np.exp(lin_model.coef_[0,count]),\"\\n\")\n",
    "    #print(\"ODDS Ratio for\", col ,\"=  \", np.exp(lin_model.coef_[0,count]),\"\\n\")\n",
    "    print(\"{:60}{:.6f}\".format(col, np.exp(lin_model.coef_[0][count])))\n",
    "\n",
    "    count = count + 1\n",
    "    "
   ]
  },
  {
   "cell_type": "code",
   "execution_count": 36,
   "metadata": {},
   "outputs": [
    {
     "name": "stdout",
     "output_type": "stream",
     "text": [
      "Confusion matrix, without normalization\n",
      "[[1517  907]\n",
      " [ 871 1705]]\n",
      "Normalized confusion matrix\n",
      "[[0.63 0.37]\n",
      " [0.34 0.66]]\n"
     ]
    },
    {
     "data": {
      "image/png": "[encoded data removed]",
      "text/plain": [
       "<Figure size 640x480 with 2 Axes>"
      ]
     },
     "metadata": {},
     "output_type": "display_data"
    },
    {
     "data": {
      "image/png": "[encoded data removed]",
      "text/plain": [
       "<Figure size 640x480 with 2 Axes>"
      ]
     },
     "metadata": {},
     "output_type": "display_data"
    },
    {
     "name": "stdout",
     "output_type": "stream",
     "text": [
      "              precision    recall  f1-score   support\n",
      "\n",
      "        STAY       0.64      0.63      0.63      2424\n",
      "       LEAVE       0.65      0.66      0.66      2576\n",
      "\n",
      "    accuracy                           0.64      5000\n",
      "   macro avg       0.64      0.64      0.64      5000\n",
      "weighted avg       0.64      0.64      0.64      5000\n",
      "\n"
     ]
    }
   ],
   "source": [
    "from sklearn.metrics import ConfusionMatrixDisplay\n",
    "from sklearn.metrics import classification_report\n",
    "from sklearn import datasets, metrics, model_selection, svm\n",
    "import numpy as np\n",
    "\n",
    "classifier = lin_model\n",
    "\n",
    "#decision_tree = DecisionTreeClassifier(max_depth=6, criterion=\"entropy\",max_leaf_nodes = 12, min_samples_leaf = 1) \n",
    "## Let's tell the model what is the data\n",
    "probabilities = lin_model.predict_proba(X_test)[:, 1]\n",
    "prediction = probabilities > 0.5\n",
    "\n",
    "\n",
    "\n",
    "np.set_printoptions(precision=2)\n",
    "\n",
    "# Plot non-normalized confusion matrix\n",
    "titles_options = [\n",
    "    (\"Confusion matrix, without normalization\", None),\n",
    "    (\"Normalized confusion matrix\", \"true\"),\n",
    "]\n",
    "for title, normalize in titles_options:\n",
    "    disp = ConfusionMatrixDisplay.from_estimator(\n",
    "        classifier,\n",
    "        X_test,\n",
    "        y_test,\n",
    "        display_labels=[\"STAY\",\"LEAVE\"],\n",
    "        cmap=plt.cm.Blues,\n",
    "        normalize=normalize,\n",
    "    )\n",
    "    disp.ax_.set_title(title)\n",
    "\n",
    "    print(title)\n",
    "    print(disp.confusion_matrix)\n",
    "\n",
    "plt.show()\n",
    "\n",
    "scores = cross_val_score(classifier, X_train, y_train, cv = 10)\n",
    "\n",
    "print(classification_report(y_test, y_pred, target_names=[\"STAY\",\"LEAVE\"]))"
   ]
  },
  {
   "cell_type": "code",
   "execution_count": 37,
   "metadata": {
    "tags": []
   },
   "outputs": [
    {
     "data": {
      "text/plain": [
       "(0.0, 1.0)"
      ]
     },
     "execution_count": 37,
     "metadata": {},
     "output_type": "execute_result"
    },
    {
     "data": {
      "image/png": "[encoded data removed]",
      "text/plain": [
       "<Figure size 640x480 with 1 Axes>"
      ]
     },
     "metadata": {},
     "output_type": "display_data"
    }
   ],
   "source": [
    "import matplotlib.pyplot as plt\n",
    "import numpy as np\n",
    "import pandas as pd\n",
    "from sklearn.datasets import make_classification\n",
    "from sklearn.linear_model import LogisticRegression\n",
    "from sklearn.model_selection import train_test_split\n",
    "from sklearn.metrics import precision_recall_curve\n",
    "\n",
    "#using precision and recall\n",
    "#Precision - use it when fp (false positive) are important (i.e. you DONT want them, or as few as possible).\n",
    "#Recall - use it when fn (false negative) are important (i.e. you DONT want them, or as few as possible).\n",
    "\n",
    "lr = lin_model\n",
    "y_scores = lr.predict_proba(X_test)\n",
    "precision, recall, threshold = precision_recall_curve(y_test, y_scores[:, 1])\n",
    "\n",
    "plt.plot(threshold, precision[:-1], 'b--', label='Precision')\n",
    "plt.plot(threshold, recall[:-1], 'r--', label='Recall')\n",
    "plt.xlabel('Threshold')\n",
    "plt.legend(loc='lower left')\n",
    "plt.ylim([0,1])"
   ]
  },
  {
   "cell_type": "code",
   "execution_count": 38,
   "metadata": {
    "tags": []
   },
   "outputs": [
    {
     "name": "stdout",
     "output_type": "stream",
     "text": [
      "No Skill: ROC AUC=0.500\n",
      "Logistic: ROC AUC=0.699\n"
     ]
    },
    {
     "data": {
      "image/png": "[encoded data removed]",
      "text/plain": [
       "<Figure size 640x480 with 1 Axes>"
      ]
     },
     "metadata": {},
     "output_type": "display_data"
    }
   ],
   "source": [
    "import matplotlib.pyplot as plt\n",
    "# roc curve and auc\n",
    "from sklearn.datasets import make_classification\n",
    "from sklearn.linear_model import LogisticRegression\n",
    "from sklearn.model_selection import train_test_split\n",
    "from sklearn.metrics import roc_curve\n",
    "from sklearn.metrics import roc_auc_score\n",
    "\n",
    "trainX, testX, trainy, testy = X_train, X_test, y_train, y_test\n",
    "\n",
    "# generate a no skill prediction (majority class)\n",
    "ns_probs = [0 for _ in range(len(testy))]\n",
    "# fit a model\n",
    "model = lin_model\n",
    "model.fit(trainX, trainy)\n",
    "# predict probabilities\n",
    "lr_probs = model.predict_proba(testX)\n",
    "# keep probabilities for the positive outcome only\n",
    "lr_probs = lr_probs[:, 1]\n",
    "# calculate scores\n",
    "ns_auc = roc_auc_score(testy, ns_probs)\n",
    "lr_auc = roc_auc_score(testy, lr_probs)\n",
    "# summarize scores\n",
    "print('No Skill: ROC AUC=%.3f' % (ns_auc))\n",
    "print('Logistic: ROC AUC=%.3f' % (lr_auc))\n",
    "# calculate roc curves\n",
    "ns_fpr, ns_tpr, _ = roc_curve(testy, ns_probs)\n",
    "lr_fpr, lr_tpr, _ = roc_curve(testy, lr_probs)\n",
    "# plot the roc curve for the model\n",
    "plt.plot(ns_fpr, ns_tpr, linestyle='--', label='No Skill')\n",
    "plt.plot(lr_fpr, lr_tpr, marker='.', label='Decision Tree')\n",
    "# axis labels\n",
    "plt.xlabel('False Positive Rate')\n",
    "plt.ylabel('True Positive Rate')\n",
    "# show the legend\n",
    "plt.legend()\n",
    "# show the plot\n",
    "plt.show()"
   ]
  },
  {
   "cell_type": "code",
   "execution_count": null,
   "metadata": {},
   "outputs": [],
   "source": []
  }
 ],
 "metadata": {
  "kernelspec": {
   "display_name": "Python 3 (ipykernel)",
   "language": "python",
   "name": "python3"
  },
  "language_info": {
   "codemirror_mode": {
    "name": "ipython",
    "version": 3
   },
   "file_extension": ".py",
   "mimetype": "text/x-python",
   "name": "python",
   "nbconvert_exporter": "python",
   "pygments_lexer": "ipython3",
   "version": "3.11.4"
  }
 },
 "nbformat": 4,
 "nbformat_minor": 4
}
