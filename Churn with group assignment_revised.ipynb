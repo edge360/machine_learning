{
 "cells": [
  {
   "cell_type": "code",
   "execution_count": 3,
   "id": "fbed4391",
   "metadata": {},
   "outputs": [
    {
     "name": "stdout",
     "output_type": "stream",
     "text": [
      "Requirement already satisfied: graphviz in c:\\users\\18624\\anaconda3\\lib\\site-packages (0.20.1)\n"
     ]
    }
   ],
   "source": [
    "import os\n",
    "import numpy as np\n",
    "import pandas as pd\n",
    "import math\n",
    "import matplotlib.pylab as plt\n",
    "import seaborn as sns\n",
    "from IPython.display import display\n",
    "\n",
    "%matplotlib inline\n",
    "sns.set(style='ticks', palette='Set2')\n",
    "!pip install graphviz"
   ]
  },
  {
   "cell_type": "code",
   "execution_count": 4,
   "id": "1efa9ae0",
   "metadata": {},
   "outputs": [
    {
     "data": {
      "text/html": [
       "<div>\n",
       "<style scoped>\n",
       "    .dataframe tbody tr th:only-of-type {\n",
       "        vertical-align: middle;\n",
       "    }\n",
       "\n",
       "    .dataframe tbody tr th {\n",
       "        vertical-align: top;\n",
       "    }\n",
       "\n",
       "    .dataframe thead th {\n",
       "        text-align: right;\n",
       "    }\n",
       "</style>\n",
       "<table border=\"1\" class=\"dataframe\">\n",
       "  <thead>\n",
       "    <tr style=\"text-align: right;\">\n",
       "      <th></th>\n",
       "      <th>COLLEGE</th>\n",
       "      <th>INCOME</th>\n",
       "      <th>OVERAGE</th>\n",
       "      <th>LEFTOVER</th>\n",
       "      <th>HOUSE</th>\n",
       "      <th>HANDSET_PRICE</th>\n",
       "      <th>OVER_15MINS_CALLS_PER_MONTH</th>\n",
       "      <th>AVERAGE_CALL_DURATION</th>\n",
       "      <th>REPORTED_SATISFACTION</th>\n",
       "      <th>REPORTED_USAGE_LEVEL</th>\n",
       "      <th>CONSIDERING_CHANGE_OF_PLAN</th>\n",
       "      <th>LEAVE</th>\n",
       "    </tr>\n",
       "  </thead>\n",
       "  <tbody>\n",
       "    <tr>\n",
       "      <th>0</th>\n",
       "      <td>zero</td>\n",
       "      <td>31953</td>\n",
       "      <td>0</td>\n",
       "      <td>6</td>\n",
       "      <td>313378</td>\n",
       "      <td>161</td>\n",
       "      <td>0</td>\n",
       "      <td>4</td>\n",
       "      <td>unsat</td>\n",
       "      <td>little</td>\n",
       "      <td>no</td>\n",
       "      <td>STAY</td>\n",
       "    </tr>\n",
       "    <tr>\n",
       "      <th>1</th>\n",
       "      <td>one</td>\n",
       "      <td>36147</td>\n",
       "      <td>0</td>\n",
       "      <td>13</td>\n",
       "      <td>800586</td>\n",
       "      <td>244</td>\n",
       "      <td>0</td>\n",
       "      <td>6</td>\n",
       "      <td>unsat</td>\n",
       "      <td>little</td>\n",
       "      <td>considering</td>\n",
       "      <td>STAY</td>\n",
       "    </tr>\n",
       "    <tr>\n",
       "      <th>2</th>\n",
       "      <td>one</td>\n",
       "      <td>27273</td>\n",
       "      <td>230</td>\n",
       "      <td>0</td>\n",
       "      <td>305049</td>\n",
       "      <td>201</td>\n",
       "      <td>16</td>\n",
       "      <td>15</td>\n",
       "      <td>unsat</td>\n",
       "      <td>very_little</td>\n",
       "      <td>perhaps</td>\n",
       "      <td>STAY</td>\n",
       "    </tr>\n",
       "    <tr>\n",
       "      <th>3</th>\n",
       "      <td>zero</td>\n",
       "      <td>120070</td>\n",
       "      <td>38</td>\n",
       "      <td>33</td>\n",
       "      <td>788235</td>\n",
       "      <td>780</td>\n",
       "      <td>3</td>\n",
       "      <td>2</td>\n",
       "      <td>unsat</td>\n",
       "      <td>very_high</td>\n",
       "      <td>considering</td>\n",
       "      <td>LEAVE</td>\n",
       "    </tr>\n",
       "    <tr>\n",
       "      <th>4</th>\n",
       "      <td>one</td>\n",
       "      <td>29215</td>\n",
       "      <td>208</td>\n",
       "      <td>85</td>\n",
       "      <td>224784</td>\n",
       "      <td>241</td>\n",
       "      <td>21</td>\n",
       "      <td>1</td>\n",
       "      <td>very_unsat</td>\n",
       "      <td>little</td>\n",
       "      <td>never_thought</td>\n",
       "      <td>STAY</td>\n",
       "    </tr>\n",
       "  </tbody>\n",
       "</table>\n",
       "</div>"
      ],
      "text/plain": [
       "  COLLEGE  INCOME  OVERAGE  LEFTOVER   HOUSE  HANDSET_PRICE  \\\n",
       "0    zero   31953        0         6  313378            161   \n",
       "1     one   36147        0        13  800586            244   \n",
       "2     one   27273      230         0  305049            201   \n",
       "3    zero  120070       38        33  788235            780   \n",
       "4     one   29215      208        85  224784            241   \n",
       "\n",
       "   OVER_15MINS_CALLS_PER_MONTH  AVERAGE_CALL_DURATION REPORTED_SATISFACTION  \\\n",
       "0                            0                      4                 unsat   \n",
       "1                            0                      6                 unsat   \n",
       "2                           16                     15                 unsat   \n",
       "3                            3                      2                 unsat   \n",
       "4                           21                      1            very_unsat   \n",
       "\n",
       "  REPORTED_USAGE_LEVEL CONSIDERING_CHANGE_OF_PLAN  LEAVE  \n",
       "0               little                         no   STAY  \n",
       "1               little                considering   STAY  \n",
       "2          very_little                    perhaps   STAY  \n",
       "3            very_high                considering  LEAVE  \n",
       "4               little              never_thought   STAY  "
      ]
     },
     "execution_count": 4,
     "metadata": {},
     "output_type": "execute_result"
    }
   ],
   "source": [
    "# Load data\n",
    "path = \"./churn2.csv\"\n",
    "df = pd.read_csv(path)[[\"COLLEGE\", \"INCOME\", \"OVERAGE\", \"LEFTOVER\", \"HOUSE\", \"HANDSET_PRICE\", \"OVER_15MINS_CALLS_PER_MONTH\",\"AVERAGE_CALL_DURATION\",\"REPORTED_SATISFACTION\",\"REPORTED_USAGE_LEVEL\",\"CONSIDERING_CHANGE_OF_PLAN\",\"LEAVE\"]].dropna()\n",
    "#Take a look at the data\n",
    "df.head(5)"
   ]
  },
  {
   "cell_type": "code",
   "execution_count": 5,
   "id": "dce5560f",
   "metadata": {},
   "outputs": [
    {
     "data": {
      "text/plain": [
       "COLLEGE                        object\n",
       "INCOME                          int64\n",
       "OVERAGE                         int64\n",
       "LEFTOVER                        int64\n",
       "HOUSE                           int64\n",
       "HANDSET_PRICE                   int64\n",
       "OVER_15MINS_CALLS_PER_MONTH     int64\n",
       "AVERAGE_CALL_DURATION           int64\n",
       "REPORTED_SATISFACTION          object\n",
       "REPORTED_USAGE_LEVEL           object\n",
       "CONSIDERING_CHANGE_OF_PLAN     object\n",
       "LEAVE                          object\n",
       "dtype: object"
      ]
     },
     "execution_count": 5,
     "metadata": {},
     "output_type": "execute_result"
    }
   ],
   "source": [
    "df.dtypes"
   ]
  },
  {
   "cell_type": "code",
   "execution_count": 6,
   "id": "8a76964d",
   "metadata": {},
   "outputs": [
    {
     "data": {
      "text/html": [
       "<div>\n",
       "<style scoped>\n",
       "    .dataframe tbody tr th:only-of-type {\n",
       "        vertical-align: middle;\n",
       "    }\n",
       "\n",
       "    .dataframe tbody tr th {\n",
       "        vertical-align: top;\n",
       "    }\n",
       "\n",
       "    .dataframe thead th {\n",
       "        text-align: right;\n",
       "    }\n",
       "</style>\n",
       "<table border=\"1\" class=\"dataframe\">\n",
       "  <thead>\n",
       "    <tr style=\"text-align: right;\">\n",
       "      <th></th>\n",
       "      <th>COLLEGE</th>\n",
       "      <th>INCOME</th>\n",
       "      <th>OVERAGE</th>\n",
       "      <th>LEFTOVER</th>\n",
       "      <th>HOUSE</th>\n",
       "      <th>HANDSET_PRICE</th>\n",
       "      <th>OVER_15MINS_CALLS_PER_MONTH</th>\n",
       "      <th>AVERAGE_CALL_DURATION</th>\n",
       "      <th>REPORTED_SATISFACTION</th>\n",
       "      <th>REPORTED_USAGE_LEVEL</th>\n",
       "      <th>CONSIDERING_CHANGE_OF_PLAN</th>\n",
       "      <th>LEAVE</th>\n",
       "      <th>COLLEGE2</th>\n",
       "    </tr>\n",
       "  </thead>\n",
       "  <tbody>\n",
       "    <tr>\n",
       "      <th>0</th>\n",
       "      <td>zero</td>\n",
       "      <td>31953</td>\n",
       "      <td>0</td>\n",
       "      <td>6</td>\n",
       "      <td>313378</td>\n",
       "      <td>161</td>\n",
       "      <td>0</td>\n",
       "      <td>4</td>\n",
       "      <td>unsat</td>\n",
       "      <td>little</td>\n",
       "      <td>no</td>\n",
       "      <td>STAY</td>\n",
       "      <td>0</td>\n",
       "    </tr>\n",
       "    <tr>\n",
       "      <th>1</th>\n",
       "      <td>one</td>\n",
       "      <td>36147</td>\n",
       "      <td>0</td>\n",
       "      <td>13</td>\n",
       "      <td>800586</td>\n",
       "      <td>244</td>\n",
       "      <td>0</td>\n",
       "      <td>6</td>\n",
       "      <td>unsat</td>\n",
       "      <td>little</td>\n",
       "      <td>considering</td>\n",
       "      <td>STAY</td>\n",
       "      <td>1</td>\n",
       "    </tr>\n",
       "    <tr>\n",
       "      <th>2</th>\n",
       "      <td>one</td>\n",
       "      <td>27273</td>\n",
       "      <td>230</td>\n",
       "      <td>0</td>\n",
       "      <td>305049</td>\n",
       "      <td>201</td>\n",
       "      <td>16</td>\n",
       "      <td>15</td>\n",
       "      <td>unsat</td>\n",
       "      <td>very_little</td>\n",
       "      <td>perhaps</td>\n",
       "      <td>STAY</td>\n",
       "      <td>1</td>\n",
       "    </tr>\n",
       "    <tr>\n",
       "      <th>3</th>\n",
       "      <td>zero</td>\n",
       "      <td>120070</td>\n",
       "      <td>38</td>\n",
       "      <td>33</td>\n",
       "      <td>788235</td>\n",
       "      <td>780</td>\n",
       "      <td>3</td>\n",
       "      <td>2</td>\n",
       "      <td>unsat</td>\n",
       "      <td>very_high</td>\n",
       "      <td>considering</td>\n",
       "      <td>LEAVE</td>\n",
       "      <td>0</td>\n",
       "    </tr>\n",
       "    <tr>\n",
       "      <th>4</th>\n",
       "      <td>one</td>\n",
       "      <td>29215</td>\n",
       "      <td>208</td>\n",
       "      <td>85</td>\n",
       "      <td>224784</td>\n",
       "      <td>241</td>\n",
       "      <td>21</td>\n",
       "      <td>1</td>\n",
       "      <td>very_unsat</td>\n",
       "      <td>little</td>\n",
       "      <td>never_thought</td>\n",
       "      <td>STAY</td>\n",
       "      <td>1</td>\n",
       "    </tr>\n",
       "  </tbody>\n",
       "</table>\n",
       "</div>"
      ],
      "text/plain": [
       "  COLLEGE  INCOME  OVERAGE  LEFTOVER   HOUSE  HANDSET_PRICE  \\\n",
       "0    zero   31953        0         6  313378            161   \n",
       "1     one   36147        0        13  800586            244   \n",
       "2     one   27273      230         0  305049            201   \n",
       "3    zero  120070       38        33  788235            780   \n",
       "4     one   29215      208        85  224784            241   \n",
       "\n",
       "   OVER_15MINS_CALLS_PER_MONTH  AVERAGE_CALL_DURATION REPORTED_SATISFACTION  \\\n",
       "0                            0                      4                 unsat   \n",
       "1                            0                      6                 unsat   \n",
       "2                           16                     15                 unsat   \n",
       "3                            3                      2                 unsat   \n",
       "4                           21                      1            very_unsat   \n",
       "\n",
       "  REPORTED_USAGE_LEVEL CONSIDERING_CHANGE_OF_PLAN  LEAVE  COLLEGE2  \n",
       "0               little                         no   STAY         0  \n",
       "1               little                considering   STAY         1  \n",
       "2          very_little                    perhaps   STAY         1  \n",
       "3            very_high                considering  LEAVE         0  \n",
       "4               little              never_thought   STAY         1  "
      ]
     },
     "execution_count": 6,
     "metadata": {},
     "output_type": "execute_result"
    }
   ],
   "source": [
    "# Transform COLLEGE column to a numeric variable\n",
    "#df[\"COLLEGE2\"] = (df.COLLEGE ==\"one\").astype(int)\n",
    "df[\"COLLEGE2\"] = (df.COLLEGE == \"one\").astype(int)\n",
    "#df = df.drop(\"COLLEGE\", axis=\"columns\")\n",
    "#df = df.drop(\"COLLEGE\", axis=\"columns\")\n",
    "df.head(5)"
   ]
  },
  {
   "cell_type": "code",
   "execution_count": 7,
   "id": "58adf001",
   "metadata": {},
   "outputs": [
    {
     "data": {
      "text/plain": [
       "COLLEGE                        object\n",
       "INCOME                          int64\n",
       "OVERAGE                         int64\n",
       "LEFTOVER                        int64\n",
       "HOUSE                           int64\n",
       "HANDSET_PRICE                   int64\n",
       "OVER_15MINS_CALLS_PER_MONTH     int64\n",
       "AVERAGE_CALL_DURATION           int64\n",
       "REPORTED_SATISFACTION          object\n",
       "REPORTED_USAGE_LEVEL           object\n",
       "CONSIDERING_CHANGE_OF_PLAN     object\n",
       "LEAVE                          object\n",
       "COLLEGE2                        int32\n",
       "dtype: object"
      ]
     },
     "execution_count": 7,
     "metadata": {},
     "output_type": "execute_result"
    }
   ],
   "source": [
    "df.dtypes"
   ]
  },
  {
   "cell_type": "code",
   "execution_count": 8,
   "id": "6585d66e",
   "metadata": {},
   "outputs": [],
   "source": [
    "#df.REPORTED_SATISFACTION = df.REPORTED_SATISFACTION.astype('category')\n",
    "#df.REPORTED_USAGE_LEVEL = df.REPORTED_USAGE_LEVEL.astype('category')\n",
    "#df.CONSIDERING_CHANGE_OF_PLAN = df.CONSIDERING_CHANGE_OF_PLAN.astype('category')\n",
    "#df.COLLEGE2 = df.COLLEGE2.astype('category')\n",
    "###\n",
    "df.REPORTED_SATISFACTION = df.REPORTED_SATISFACTION.astype('str')\n",
    "df.REPORTED_USAGE_LEVEL = df.REPORTED_USAGE_LEVEL.astype('str')\n",
    "df.CONSIDERING_CHANGE_OF_PLAN = df.CONSIDERING_CHANGE_OF_PLAN.astype('str')"
   ]
  },
  {
   "cell_type": "code",
   "execution_count": 9,
   "id": "ad1f89e7",
   "metadata": {},
   "outputs": [
    {
     "data": {
      "text/html": [
       "<div>\n",
       "<style scoped>\n",
       "    .dataframe tbody tr th:only-of-type {\n",
       "        vertical-align: middle;\n",
       "    }\n",
       "\n",
       "    .dataframe tbody tr th {\n",
       "        vertical-align: top;\n",
       "    }\n",
       "\n",
       "    .dataframe thead th {\n",
       "        text-align: right;\n",
       "    }\n",
       "</style>\n",
       "<table border=\"1\" class=\"dataframe\">\n",
       "  <thead>\n",
       "    <tr style=\"text-align: right;\">\n",
       "      <th></th>\n",
       "      <th>COLLEGE</th>\n",
       "      <th>INCOME</th>\n",
       "      <th>OVERAGE</th>\n",
       "      <th>LEFTOVER</th>\n",
       "      <th>HOUSE</th>\n",
       "      <th>HANDSET_PRICE</th>\n",
       "      <th>OVER_15MINS_CALLS_PER_MONTH</th>\n",
       "      <th>AVERAGE_CALL_DURATION</th>\n",
       "      <th>REPORTED_SATISFACTION</th>\n",
       "      <th>REPORTED_USAGE_LEVEL</th>\n",
       "      <th>CONSIDERING_CHANGE_OF_PLAN</th>\n",
       "      <th>LEAVE</th>\n",
       "      <th>COLLEGE2</th>\n",
       "      <th>LEAVE2</th>\n",
       "    </tr>\n",
       "  </thead>\n",
       "  <tbody>\n",
       "    <tr>\n",
       "      <th>0</th>\n",
       "      <td>zero</td>\n",
       "      <td>31953</td>\n",
       "      <td>0</td>\n",
       "      <td>6</td>\n",
       "      <td>313378</td>\n",
       "      <td>161</td>\n",
       "      <td>0</td>\n",
       "      <td>4</td>\n",
       "      <td>unsat</td>\n",
       "      <td>little</td>\n",
       "      <td>no</td>\n",
       "      <td>STAY</td>\n",
       "      <td>0</td>\n",
       "      <td>1</td>\n",
       "    </tr>\n",
       "    <tr>\n",
       "      <th>1</th>\n",
       "      <td>one</td>\n",
       "      <td>36147</td>\n",
       "      <td>0</td>\n",
       "      <td>13</td>\n",
       "      <td>800586</td>\n",
       "      <td>244</td>\n",
       "      <td>0</td>\n",
       "      <td>6</td>\n",
       "      <td>unsat</td>\n",
       "      <td>little</td>\n",
       "      <td>considering</td>\n",
       "      <td>STAY</td>\n",
       "      <td>1</td>\n",
       "      <td>1</td>\n",
       "    </tr>\n",
       "    <tr>\n",
       "      <th>2</th>\n",
       "      <td>one</td>\n",
       "      <td>27273</td>\n",
       "      <td>230</td>\n",
       "      <td>0</td>\n",
       "      <td>305049</td>\n",
       "      <td>201</td>\n",
       "      <td>16</td>\n",
       "      <td>15</td>\n",
       "      <td>unsat</td>\n",
       "      <td>very_little</td>\n",
       "      <td>perhaps</td>\n",
       "      <td>STAY</td>\n",
       "      <td>1</td>\n",
       "      <td>1</td>\n",
       "    </tr>\n",
       "    <tr>\n",
       "      <th>3</th>\n",
       "      <td>zero</td>\n",
       "      <td>120070</td>\n",
       "      <td>38</td>\n",
       "      <td>33</td>\n",
       "      <td>788235</td>\n",
       "      <td>780</td>\n",
       "      <td>3</td>\n",
       "      <td>2</td>\n",
       "      <td>unsat</td>\n",
       "      <td>very_high</td>\n",
       "      <td>considering</td>\n",
       "      <td>LEAVE</td>\n",
       "      <td>0</td>\n",
       "      <td>0</td>\n",
       "    </tr>\n",
       "    <tr>\n",
       "      <th>4</th>\n",
       "      <td>one</td>\n",
       "      <td>29215</td>\n",
       "      <td>208</td>\n",
       "      <td>85</td>\n",
       "      <td>224784</td>\n",
       "      <td>241</td>\n",
       "      <td>21</td>\n",
       "      <td>1</td>\n",
       "      <td>very_unsat</td>\n",
       "      <td>little</td>\n",
       "      <td>never_thought</td>\n",
       "      <td>STAY</td>\n",
       "      <td>1</td>\n",
       "      <td>1</td>\n",
       "    </tr>\n",
       "  </tbody>\n",
       "</table>\n",
       "</div>"
      ],
      "text/plain": [
       "  COLLEGE  INCOME  OVERAGE  LEFTOVER   HOUSE  HANDSET_PRICE  \\\n",
       "0    zero   31953        0         6  313378            161   \n",
       "1     one   36147        0        13  800586            244   \n",
       "2     one   27273      230         0  305049            201   \n",
       "3    zero  120070       38        33  788235            780   \n",
       "4     one   29215      208        85  224784            241   \n",
       "\n",
       "   OVER_15MINS_CALLS_PER_MONTH  AVERAGE_CALL_DURATION REPORTED_SATISFACTION  \\\n",
       "0                            0                      4                 unsat   \n",
       "1                            0                      6                 unsat   \n",
       "2                           16                     15                 unsat   \n",
       "3                            3                      2                 unsat   \n",
       "4                           21                      1            very_unsat   \n",
       "\n",
       "  REPORTED_USAGE_LEVEL CONSIDERING_CHANGE_OF_PLAN  LEAVE  COLLEGE2  LEAVE2  \n",
       "0               little                         no   STAY         0       1  \n",
       "1               little                considering   STAY         1       1  \n",
       "2          very_little                    perhaps   STAY         1       1  \n",
       "3            very_high                considering  LEAVE         0       0  \n",
       "4               little              never_thought   STAY         1       1  "
      ]
     },
     "execution_count": 9,
     "metadata": {},
     "output_type": "execute_result"
    }
   ],
   "source": [
    "df[\"LEAVE2\"] = (df.LEAVE==\"STAY\").astype(int)\n",
    "#df = df.drop(\"LEAVE\", axis=\"columns\")\n",
    "df.head(5)"
   ]
  },
  {
   "cell_type": "code",
   "execution_count": 10,
   "id": "68b10972",
   "metadata": {},
   "outputs": [
    {
     "data": {
      "text/plain": [
       "COLLEGE                        object\n",
       "INCOME                          int64\n",
       "OVERAGE                         int64\n",
       "LEFTOVER                        int64\n",
       "HOUSE                           int64\n",
       "HANDSET_PRICE                   int64\n",
       "OVER_15MINS_CALLS_PER_MONTH     int64\n",
       "AVERAGE_CALL_DURATION           int64\n",
       "REPORTED_SATISFACTION          object\n",
       "REPORTED_USAGE_LEVEL           object\n",
       "CONSIDERING_CHANGE_OF_PLAN     object\n",
       "LEAVE                          object\n",
       "COLLEGE2                        int32\n",
       "LEAVE2                          int32\n",
       "dtype: object"
      ]
     },
     "execution_count": 10,
     "metadata": {},
     "output_type": "execute_result"
    }
   ],
   "source": [
    "df.dtypes"
   ]
  },
  {
   "cell_type": "code",
   "execution_count": 11,
   "id": "4bd7baa8",
   "metadata": {},
   "outputs": [],
   "source": [
    "# Names of different columns\n",
    "predictor_cols = [\"INCOME\",\"HOUSE\",\"OVERAGE\", \"LEFTOVER\"]\n",
    "target_col =\"LEAVE2\"\n",
    "from sklearn.model_selection import train_test_split\n",
    "X_train, X_test, y_train, y_test= train_test_split(df[predictor_cols],df[target_col],test_size=0.25,random_state=0)\n"
   ]
  },
  {
   "cell_type": "code",
   "execution_count": null,
   "id": "15532eb0",
   "metadata": {},
   "outputs": [],
   "source": []
  },
  {
   "cell_type": "code",
   "execution_count": 12,
   "id": "4ae7feae",
   "metadata": {},
   "outputs": [
    {
     "name": "stdout",
     "output_type": "stream",
     "text": [
      "X_train shape: (15000, 4)\n",
      "X_test shape: (5000, 4)\n",
      "y_train shape: (15000,)\n",
      "y_test shape: (5000,)\n"
     ]
    }
   ],
   "source": [
    "print(\"X_train shape: {}\".format(X_train.shape))\n",
    "print(\"X_test shape: {}\".format(X_test.shape))\n",
    "print(\"y_train shape: {}\".format(y_train.shape))\n",
    "print(\"y_test shape: {}\".format(y_test.shape))"
   ]
  },
  {
   "cell_type": "code",
   "execution_count": 13,
   "id": "202a4e4f",
   "metadata": {},
   "outputs": [
    {
     "name": "stdout",
     "output_type": "stream",
     "text": [
      "Cross validation scores: [0.64  0.65  0.62  0.662 0.634 0.658 0.598 0.672 0.642 0.676]\n"
     ]
    }
   ],
   "source": [
    "from sklearn.model_selection import cross_val_score\n",
    "from sklearn.linear_model import LogisticRegression\n",
    "logreg=LogisticRegression()\n",
    "scores=cross_val_score(logreg, X_test ,y_test, cv=10)\n",
    "print(\"Cross validation scores: {}\".format(scores))"
   ]
  },
  {
   "cell_type": "code",
   "execution_count": null,
   "id": "126e22cd",
   "metadata": {},
   "outputs": [],
   "source": []
  },
  {
   "cell_type": "code",
   "execution_count": 14,
   "id": "0c955141",
   "metadata": {},
   "outputs": [
    {
     "name": "stdout",
     "output_type": "stream",
     "text": [
      "Average cross validation score: 0.65\n",
      "Std. dev of cross validation score: 0.02\n",
      "Minimum of cross validation score:0.60\n"
     ]
    }
   ],
   "source": [
    "print(\"Average cross validation score: {:.2f}\".format(scores.mean()))\n",
    "print(\"Std. dev of cross validation score: {:.2f}\".format(scores.std()))\n",
    "print(\"Minimum of cross validation score:{:.2f}\".format(scores.min()))\n"
   ]
  },
  {
   "cell_type": "code",
   "execution_count": 15,
   "id": "33e49bef",
   "metadata": {},
   "outputs": [
    {
     "name": "stdout",
     "output_type": "stream",
     "text": [
      "Cross validation scores: [0.674 0.726 0.688 0.702 0.674 0.69  0.708 0.698 0.72  0.734]\n",
      "Average cross validation score: 0.70\n",
      "Std. dev of cross validation score: 0.02\n",
      "Minimum of cross validation score: 0.67\n"
     ]
    }
   ],
   "source": [
    "from sklearn.tree import DecisionTreeClassifier\n",
    "#Let's define the model (tree)\n",
    "decision_tree = DecisionTreeClassifier(max_depth=4, criterion=\"entropy\", max_leaf_nodes=10, min_samples_leaf =1)\n",
    "# let's tell the model what is the data\n",
    "decision_tree.fit(X_train, y_train)\n",
    "scores = cross_val_score(decision_tree, X_test, y_test, cv = 10)\n",
    "\n",
    "print(\"Cross validation scores: {}\".format(scores))\n",
    "print(\"Average cross validation score: {:.2f}\".format(scores.mean()))\n",
    "print(\"Std. dev of cross validation score: {:.2f}\".format(scores.std()))\n",
    "print(\"Minimum of cross validation score: {:.2f}\".format(scores.min()))"
   ]
  },
  {
   "cell_type": "code",
   "execution_count": 16,
   "id": "ddee446c",
   "metadata": {},
   "outputs": [
    {
     "name": "stdout",
     "output_type": "stream",
     "text": [
      "./images/tree.dot\n",
      "./images/tree.png\n"
     ]
    },
    {
     "data": {
      "image/png": "[encoded data removed]",
      "text/plain": [
       "<IPython.core.display.Image object>"
      ]
     },
     "execution_count": 16,
     "metadata": {},
     "output_type": "execute_result"
    }
   ],
   "source": [
    "from IPython.display import Image\n",
    "from sklearn.tree import export_graphviz\n",
    "\n",
    "def visualize_tree(decision_tree, feature_names, class_names, directory=\"./images\", name=\"tree\", proportion=True):\n",
    "    #Export our decision tree to graphviz format\n",
    "    directory1 = directory[2:]\n",
    "    os.system(\"mkdir %s\" %(directory1))\n",
    "    dot_name = \"%s/%s.dot\" % (directory, name)\n",
    "    dot_file = export_graphviz(decision_tree, out_file=dot_name,feature_names=feature_names,class_names=class_names,\n",
    "                              proportion=proportion)\n",
    "    #Call graphviz to make an image file from our decision tree\n",
    "    image_name = \"%s/%s.png\" % (directory, name)\n",
    "    print(dot_name)\n",
    "    print(image_name)\n",
    "    #os.system(\"dot -Tpng %s -o %s\" % (dot_name, image_name))\n",
    "    os.system(\"dot -Tpng %s -o %s\" % (dot_name, image_name))\n",
    "    # os.system(\"cd %s\" % (directory1))\n",
    "    #subprocess.run(\"dot -T png %s -o %s\" % (dot_name, image_name))\n",
    "    #Return the .png image so we can see it\n",
    "    \n",
    "    return Image(filename=image_name)\n",
    "\n",
    "visualize_tree(decision_tree, predictor_cols, [\"LEAVE\", \"STAY\"])\n",
    "    "
   ]
  },
  {
   "cell_type": "code",
   "execution_count": 17,
   "id": "6c9a4906",
   "metadata": {},
   "outputs": [
    {
     "name": "stdout",
     "output_type": "stream",
     "text": [
      "Test set score:  0.703200\n"
     ]
    }
   ],
   "source": [
    "y_pred = decision_tree.predict(X_test)\n",
    "print(\"Test set score: {: 2f}\". format(np.mean(y_pred == y_test)))"
   ]
  },
  {
   "cell_type": "code",
   "execution_count": 28,
   "id": "8192b400",
   "metadata": {},
   "outputs": [
    {
     "name": "stdout",
     "output_type": "stream",
     "text": [
      "Accuracy = 0.635\n"
     ]
    }
   ],
   "source": [
    "from sklearn import metrics\n",
    "print ( \"Accuracy = %.3f\" % (metrics.accuracy_score(decision_tree.predict(X_test), y_test) ))"
   ]
  },
  {
   "cell_type": "code",
   "execution_count": null,
   "id": "faf0ed90",
   "metadata": {},
   "outputs": [],
   "source": []
  },
  {
   "cell_type": "code",
   "execution_count": 23,
   "id": "9a729406",
   "metadata": {},
   "outputs": [
    {
     "name": "stdout",
     "output_type": "stream",
     "text": [
      "X_new.shape: (1, 3)\n",
      "Prediction: [0]\n",
      "Predicted value for new record is %s LEAVE\n"
     ]
    },
    {
     "name": "stderr",
     "output_type": "stream",
     "text": [
      "C:\\Users\\18624\\anaconda3\\Lib\\site-packages\\sklearn\\base.py:464: UserWarning: X does not have valid feature names, but DecisionTreeClassifier was fitted with feature names\n",
      "  warnings.warn(\n"
     ]
    }
   ],
   "source": [
    "#predictor_cols = [\"INCOME\", HOUSE\",\"COLLEGE2\"]\n",
    "X_new = np.array([[700000, 140000,1]])\n",
    "def Predict_for_New_Value(X_new):\n",
    "    print(\"X_new.shape: {}\".format(X_new.shape))\n",
    "    prediction = decision_tree.predict(X_new)\n",
    "    print(\"Prediction: {}\".format(prediction))\n",
    "    if(prediction == 0):\n",
    "        return(\"LEAVE\")\n",
    "    elif(prediction == 1):\n",
    "        return(\"STAY\")\n",
    "    else:\n",
    "        return(\"UNKNOWN STATUS..\")\n",
    "    \n",
    "predicted_status= Predict_for_New_Value(X_new)\n",
    "print(\"Predicted value for new record is %s\", predicted_status)\n",
    "\n"
   ]
  }
 ],
 "metadata": {
  "kernelspec": {
   "display_name": "Python 3 (ipykernel)",
   "language": "python",
   "name": "python3"
  },
  "language_info": {
   "codemirror_mode": {
    "name": "ipython",
    "version": 3
   },
   "file_extension": ".py",
   "mimetype": "text/x-python",
   "name": "python",
   "nbconvert_exporter": "python",
   "pygments_lexer": "ipython3",
   "version": "3.11.4"
  }
 },
 "nbformat": 4,
 "nbformat_minor": 5
}
