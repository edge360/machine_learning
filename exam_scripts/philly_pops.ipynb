{
 "cells": [
  {
   "cell_type": "code",
   "execution_count": 4,
   "id": "385079bc-253f-40e9-ae0f-3e8d8f15e5df",
   "metadata": {
    "tags": []
   },
   "outputs": [
    {
     "name": "stdout",
     "output_type": "stream",
     "text": [
      "Average Population for Filtered Neighborhoods: 10426.54347826087\n"
     ]
    }
   ],
   "source": [
    "import pandas as pd\n",
    "import numpy as np\n",
    "\n",
    "# Load the CSV file into a pandas DataFrame\n",
    "#df = pd.read_csv('philly_neighborhoods.csv')\n",
    "df = pd.read_csv(\"Neigh-node-pops-v2.csv\")\n",
    "\n",
    "\n",
    "# Calculate the 70th percentile for the xcoord values\n",
    "xcoord_70th_percentile = np.percentile(df['xcoord'], 70)\n",
    "# Calculate the 35th percentile for the ycoord values\n",
    "ycoord_35th_percentile = np.percentile(df['ycoord'], 35)\n",
    "\n",
    "# Filter the DataFrame based on the given conditions\n",
    "filtered_df = df[\n",
    "                    (df['Population'] >= 1743) &\n",
    "                    (df['xcoord'] <= xcoord_70th_percentile) &\n",
    "                    (df['ycoord'] >= ycoord_35th_percentile)\n",
    "                ]\n",
    "\n",
    "# Calculate the average population for the filtered neighborhoods\n",
    "average_population = filtered_df['Population'].mean()\n",
    "\n",
    "# Print the average population\n",
    "print(f'Average Population for Filtered Neighborhoods: {average_population}')"
   ]
  },
  {
   "cell_type": "code",
   "execution_count": null,
   "id": "59b12061-f47b-45f5-8d5c-5883510e9678",
   "metadata": {},
   "outputs": [],
   "source": []
  }
 ],
 "metadata": {
  "kernelspec": {
   "display_name": "Python 3 (ipykernel)",
   "language": "python",
   "name": "python3"
  },
  "language_info": {
   "codemirror_mode": {
    "name": "ipython",
    "version": 3
   },
   "file_extension": ".py",
   "mimetype": "text/x-python",
   "name": "python",
   "nbconvert_exporter": "python",
   "pygments_lexer": "ipython3",
   "version": "3.11.4"
  }
 },
 "nbformat": 4,
 "nbformat_minor": 5
}
