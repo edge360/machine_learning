{
 "cells": [
  {
   "cell_type": "code",
   "execution_count": 8,
   "id": "637a38e9",
   "metadata": {
    "tags": []
   },
   "outputs": [],
   "source": [
    "import os\n",
    "import numpy as np\n",
    "import pandas as pd\n",
    "import math\n",
    "import matplotlib.pylab as plt\n",
    "import seaborn as sns\n",
    "from IPython.display import display\n",
    "from sklearn.linear_model import LogisticRegression"
   ]
  },
  {
   "cell_type": "code",
   "execution_count": 9,
   "id": "db4d43b8",
   "metadata": {
    "tags": []
   },
   "outputs": [
    {
     "data": {
      "text/html": [
       "<div>\n",
       "<style scoped>\n",
       "    .dataframe tbody tr th:only-of-type {\n",
       "        vertical-align: middle;\n",
       "    }\n",
       "\n",
       "    .dataframe tbody tr th {\n",
       "        vertical-align: top;\n",
       "    }\n",
       "\n",
       "    .dataframe thead th {\n",
       "        text-align: right;\n",
       "    }\n",
       "</style>\n",
       "<table border=\"1\" class=\"dataframe\">\n",
       "  <thead>\n",
       "    <tr style=\"text-align: right;\">\n",
       "      <th></th>\n",
       "      <th>Customer</th>\n",
       "      <th>Spending(000)</th>\n",
       "      <th>Card</th>\n",
       "      <th>Coupon-Usage-Indicator</th>\n",
       "    </tr>\n",
       "  </thead>\n",
       "  <tbody>\n",
       "    <tr>\n",
       "      <th>0</th>\n",
       "      <td>1</td>\n",
       "      <td>2.291</td>\n",
       "      <td>1</td>\n",
       "      <td>0</td>\n",
       "    </tr>\n",
       "    <tr>\n",
       "      <th>1</th>\n",
       "      <td>2</td>\n",
       "      <td>3.215</td>\n",
       "      <td>1</td>\n",
       "      <td>0</td>\n",
       "    </tr>\n",
       "    <tr>\n",
       "      <th>2</th>\n",
       "      <td>3</td>\n",
       "      <td>2.135</td>\n",
       "      <td>1</td>\n",
       "      <td>0</td>\n",
       "    </tr>\n",
       "    <tr>\n",
       "      <th>3</th>\n",
       "      <td>4</td>\n",
       "      <td>3.924</td>\n",
       "      <td>0</td>\n",
       "      <td>0</td>\n",
       "    </tr>\n",
       "    <tr>\n",
       "      <th>4</th>\n",
       "      <td>5</td>\n",
       "      <td>2.528</td>\n",
       "      <td>1</td>\n",
       "      <td>0</td>\n",
       "    </tr>\n",
       "  </tbody>\n",
       "</table>\n",
       "</div>"
      ],
      "text/plain": [
       "   Customer  Spending(000)  Card  Coupon-Usage-Indicator\n",
       "0         1          2.291     1                       0\n",
       "1         2          3.215     1                       0\n",
       "2         3          2.135     1                       0\n",
       "3         4          3.924     0                       0\n",
       "4         5          2.528     1                       0"
      ]
     },
     "execution_count": 9,
     "metadata": {},
     "output_type": "execute_result"
    }
   ],
   "source": [
    "# Load data\n",
    "df = pd.read_csv(\"Simmons-data-raw.csv\")\n",
    "df.head(5)"
   ]
  },
  {
   "cell_type": "code",
   "execution_count": 10,
   "id": "57aaa893",
   "metadata": {
    "tags": []
   },
   "outputs": [
    {
     "data": {
      "text/plain": [
       "Customer                    int64\n",
       "Spending(000)             float64\n",
       "Card                        int64\n",
       "Coupon-Usage-Indicator      int64\n",
       "dtype: object"
      ]
     },
     "execution_count": 10,
     "metadata": {},
     "output_type": "execute_result"
    }
   ],
   "source": [
    "df.dtypes"
   ]
  },
  {
   "cell_type": "code",
   "execution_count": 11,
   "id": "5e10e8b1",
   "metadata": {
    "tags": []
   },
   "outputs": [],
   "source": [
    "predictor_cols = [\"Spending(000)\",\"Card\"]\n",
    "target_col = \"Coupon-Usage-Indicator\""
   ]
  },
  {
   "cell_type": "code",
   "execution_count": 12,
   "id": "192b79ec",
   "metadata": {
    "tags": []
   },
   "outputs": [
    {
     "name": "stdout",
     "output_type": "stream",
     "text": [
      "LR coefficients:\n",
      "BETA0 (or constant term): -2.006720615442227\n",
      "BETA1 (coeff. For X1 ): 0.3298944235667402\n",
      "BETA2 (coeff. For X2): 0.9178862828888502\n",
      "\n",
      "\n",
      "ODDS RATIOs:\n",
      "X1 : 1.3908212827618582\n",
      "X2 : 2.5039920614586832\n"
     ]
    }
   ],
   "source": [
    "model = LogisticRegression()\n",
    "model.fit(df[predictor_cols].values,df[target_col])\n",
    "beta0 = model.intercept_[0]\n",
    "beta1 = model.coef_[0][0]\n",
    "beta2 = model.coef_[0][1]\n",
    "\n",
    "print('LR coefficients:')\n",
    "print('BETA0 (or constant term): {}'.format(beta0))\n",
    "print('BETA1 (coeff. For X1 ): {}'.format(beta1))\n",
    "print('BETA2 (coeff. For X2): {}'.format(beta2))\n",
    "\n",
    "print('\\n')\n",
    "\n",
    "\n",
    "print('ODDS RATIOs:')\n",
    "print('X1 : {}'.format(np.exp(beta1)))\n",
    "print('X2 : {}'.format(np.exp(beta2)))\n"
   ]
  },
  {
   "cell_type": "code",
   "execution_count": 14,
   "id": "bd6bb01f-972a-4bbf-89d3-24317ad2a59d",
   "metadata": {
    "tags": []
   },
   "outputs": [
    {
     "name": "stdout",
     "output_type": "stream",
     "text": [
      "Predicted value for Jack =  0.39435428385538407\n",
      "Predicted value for Jill =  0.33466894574462874\n"
     ]
    }
   ],
   "source": [
    "jack=[ [2.0, 1.0] ]\n",
    "jill=[ [4.0, 0.0] ]\n",
    "\n",
    "def predict_coupon_usage(X):\n",
    "    pred_val = model.predict_proba(X)[:,1]\n",
    "    return(pred_val)\n",
    "    \n",
    "print(\"Predicted value for Jack = \" , predict_coupon_usage(jack)[0])\n",
    "print(\"Predicted value for Jill = \" , predict_coupon_usage(jill)[0])"
   ]
  }
 ],
 "metadata": {
  "kernelspec": {
   "display_name": "Python 3 (ipykernel)",
   "language": "python",
   "name": "python3"
  },
  "language_info": {
   "codemirror_mode": {
    "name": "ipython",
    "version": 3
   },
   "file_extension": ".py",
   "mimetype": "text/x-python",
   "name": "python",
   "nbconvert_exporter": "python",
   "pygments_lexer": "ipython3",
   "version": "3.11.4"
  }
 },
 "nbformat": 4,
 "nbformat_minor": 5
}
