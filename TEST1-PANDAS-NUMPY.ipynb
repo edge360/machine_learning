{
 "cells": [
  {
   "cell_type": "code",
   "execution_count": 1,
   "id": "66cec144",
   "metadata": {},
   "outputs": [],
   "source": [
    "import numpy as np\n",
    "import pandas as pd\n",
    "import math"
   ]
  },
  {
   "cell_type": "code",
   "execution_count": 3,
   "id": "273139c5",
   "metadata": {},
   "outputs": [
    {
     "data": {
      "text/html": [
       "<div>\n",
       "<style scoped>\n",
       "    .dataframe tbody tr th:only-of-type {\n",
       "        vertical-align: middle;\n",
       "    }\n",
       "\n",
       "    .dataframe tbody tr th {\n",
       "        vertical-align: top;\n",
       "    }\n",
       "\n",
       "    .dataframe thead th {\n",
       "        text-align: right;\n",
       "    }\n",
       "</style>\n",
       "<table border=\"1\" class=\"dataframe\">\n",
       "  <thead>\n",
       "    <tr style=\"text-align: right;\">\n",
       "      <th></th>\n",
       "      <th>Plan_Number_ID</th>\n",
       "      <th>polsby</th>\n",
       "      <th>momi</th>\n",
       "      <th>schwar</th>\n",
       "      <th>reock</th>\n",
       "      <th>convex</th>\n",
       "      <th>Pop_dev</th>\n",
       "      <th>Pop_max</th>\n",
       "      <th>Pop_min</th>\n",
       "      <th>Max_dev</th>\n",
       "      <th>Sum_dev</th>\n",
       "      <th>Wt_dev</th>\n",
       "      <th>Num_splits</th>\n",
       "    </tr>\n",
       "  </thead>\n",
       "  <tbody>\n",
       "    <tr>\n",
       "      <th>0</th>\n",
       "      <td>0</td>\n",
       "      <td>0.174606</td>\n",
       "      <td>0.721649</td>\n",
       "      <td>0.411504</td>\n",
       "      <td>0.433082</td>\n",
       "      <td>0.716154</td>\n",
       "      <td>8823</td>\n",
       "      <td>756754</td>\n",
       "      <td>747931</td>\n",
       "      <td>4451.647059</td>\n",
       "      <td>46903.64706</td>\n",
       "      <td>2759.510024</td>\n",
       "      <td>68</td>\n",
       "    </tr>\n",
       "    <tr>\n",
       "      <th>1</th>\n",
       "      <td>28</td>\n",
       "      <td>0.155564</td>\n",
       "      <td>0.718035</td>\n",
       "      <td>0.387776</td>\n",
       "      <td>0.413312</td>\n",
       "      <td>0.690476</td>\n",
       "      <td>11787</td>\n",
       "      <td>759252</td>\n",
       "      <td>747465</td>\n",
       "      <td>6869.352941</td>\n",
       "      <td>51630.23529</td>\n",
       "      <td>3040.585459</td>\n",
       "      <td>62</td>\n",
       "    </tr>\n",
       "    <tr>\n",
       "      <th>2</th>\n",
       "      <td>29</td>\n",
       "      <td>0.162915</td>\n",
       "      <td>0.729030</td>\n",
       "      <td>0.395732</td>\n",
       "      <td>0.434117</td>\n",
       "      <td>0.707680</td>\n",
       "      <td>11264</td>\n",
       "      <td>758482</td>\n",
       "      <td>747218</td>\n",
       "      <td>6099.352941</td>\n",
       "      <td>51521.64706</td>\n",
       "      <td>3033.002176</td>\n",
       "      <td>66</td>\n",
       "    </tr>\n",
       "    <tr>\n",
       "      <th>3</th>\n",
       "      <td>30</td>\n",
       "      <td>0.163654</td>\n",
       "      <td>0.702964</td>\n",
       "      <td>0.401350</td>\n",
       "      <td>0.403099</td>\n",
       "      <td>0.697137</td>\n",
       "      <td>11934</td>\n",
       "      <td>758751</td>\n",
       "      <td>746817</td>\n",
       "      <td>6368.352941</td>\n",
       "      <td>45930.35294</td>\n",
       "      <td>2702.430530</td>\n",
       "      <td>64</td>\n",
       "    </tr>\n",
       "    <tr>\n",
       "      <th>4</th>\n",
       "      <td>31</td>\n",
       "      <td>0.167260</td>\n",
       "      <td>0.693758</td>\n",
       "      <td>0.405025</td>\n",
       "      <td>0.413943</td>\n",
       "      <td>0.710129</td>\n",
       "      <td>12621</td>\n",
       "      <td>757586</td>\n",
       "      <td>744965</td>\n",
       "      <td>7417.647059</td>\n",
       "      <td>37156.47059</td>\n",
       "      <td>2183.548066</td>\n",
       "      <td>65</td>\n",
       "    </tr>\n",
       "  </tbody>\n",
       "</table>\n",
       "</div>"
      ],
      "text/plain": [
       "   Plan_Number_ID    polsby      momi    schwar     reock    convex  Pop_dev  \\\n",
       "0               0  0.174606  0.721649  0.411504  0.433082  0.716154     8823   \n",
       "1              28  0.155564  0.718035  0.387776  0.413312  0.690476    11787   \n",
       "2              29  0.162915  0.729030  0.395732  0.434117  0.707680    11264   \n",
       "3              30  0.163654  0.702964  0.401350  0.403099  0.697137    11934   \n",
       "4              31  0.167260  0.693758  0.405025  0.413943  0.710129    12621   \n",
       "\n",
       "   Pop_max  Pop_min      Max_dev      Sum_dev       Wt_dev  Num_splits  \n",
       "0   756754   747931  4451.647059  46903.64706  2759.510024          68  \n",
       "1   759252   747465  6869.352941  51630.23529  3040.585459          62  \n",
       "2   758482   747218  6099.352941  51521.64706  3033.002176          66  \n",
       "3   758751   746817  6368.352941  45930.35294  2702.430530          64  \n",
       "4   757586   744965  7417.647059  37156.47059  2183.548066          65  "
      ]
     },
     "execution_count": 3,
     "metadata": {},
     "output_type": "execute_result"
    }
   ],
   "source": [
    "path = \"./test1-pandas-numpy.csv\"\n",
    "df = pd.read_csv(path)\n",
    "df.head(5)"
   ]
  },
  {
   "cell_type": "code",
   "execution_count": 4,
   "id": "648c4afc",
   "metadata": {},
   "outputs": [
    {
     "name": "stdout",
     "output_type": "stream",
     "text": [
      "Maximum polsby value =  0.212842098\n"
     ]
    }
   ],
   "source": [
    "print(\"Maximum polsby value = \", np.max(df[\"polsby\"]))"
   ]
  },
  {
   "cell_type": "code",
   "execution_count": 6,
   "id": "70a911f4",
   "metadata": {},
   "outputs": [
    {
     "name": "stdout",
     "output_type": "stream",
     "text": [
      "Maximum value of square roots of polsby =  0.4613481310247176\n"
     ]
    }
   ],
   "source": [
    "print(\"Maximum value of square roots of polsby = \", np.max(np.sqrt(df[\"polsby\"])))"
   ]
  },
  {
   "cell_type": "code",
   "execution_count": 7,
   "id": "1aabfcf1",
   "metadata": {},
   "outputs": [
    {
     "name": "stdout",
     "output_type": "stream",
     "text": [
      "Max of polsby square roots in another way =  0.4613481310247176\n"
     ]
    }
   ],
   "source": [
    "df[\"polsby_sqrt\"] = np.sqrt(df[\"polsby\"])\n",
    "print(\"Max of polsby square roots in another way = \", np.max(df[\"polsby_sqrt\"]))"
   ]
  },
  {
   "cell_type": "code",
   "execution_count": null,
   "id": "5d6f6d6e",
   "metadata": {},
   "outputs": [],
   "source": []
  }
 ],
 "metadata": {
  "kernelspec": {
   "display_name": "Python 3 (ipykernel)",
   "language": "python",
   "name": "python3"
  },
  "language_info": {
   "codemirror_mode": {
    "name": "ipython",
    "version": 3
   },
   "file_extension": ".py",
   "mimetype": "text/x-python",
   "name": "python",
   "nbconvert_exporter": "python",
   "pygments_lexer": "ipython3",
   "version": "3.11.4"
  }
 },
 "nbformat": 4,
 "nbformat_minor": 5
}
